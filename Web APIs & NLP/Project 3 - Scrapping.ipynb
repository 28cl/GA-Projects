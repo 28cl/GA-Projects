{
 "cells": [
  {
   "cell_type": "markdown",
   "id": "b8655350",
   "metadata": {},
   "source": [
    "# Project 3: Web APIs & NLP"
   ]
  },
  {
   "cell_type": "markdown",
   "id": "41348209",
   "metadata": {},
   "source": [
    "## Part 1: Web Scrape Reddit"
   ]
  },
  {
   "cell_type": "markdown",
   "id": "3d3b7d82",
   "metadata": {},
   "source": [
    "### Import Libraries"
   ]
  },
  {
   "cell_type": "code",
   "execution_count": 61,
   "id": "fda9e26c",
   "metadata": {
    "ExecuteTime": {
     "end_time": "2022-08-03T14:00:06.843623Z",
     "start_time": "2022-08-03T14:00:06.835017Z"
    }
   },
   "outputs": [],
   "source": [
    "#import libraries\n",
    "import requests\n",
    "import pandas as pd\n",
    "import numpy as np"
   ]
  },
  {
   "cell_type": "markdown",
   "id": "b9cc4fa5",
   "metadata": {},
   "source": [
    "### Pushshift API URL"
   ]
  },
  {
   "cell_type": "code",
   "execution_count": 62,
   "id": "4431edd4",
   "metadata": {
    "ExecuteTime": {
     "end_time": "2022-08-03T14:00:09.197451Z",
     "start_time": "2022-08-03T14:00:09.187058Z"
    }
   },
   "outputs": [],
   "source": [
    "#API to use\n",
    "url = 'https://api.pushshift.io/reddit/search/submission'"
   ]
  },
  {
   "cell_type": "markdown",
   "id": "85b2e417",
   "metadata": {},
   "source": [
    "### Create functions to fetch submissions from subreddits"
   ]
  },
  {
   "cell_type": "code",
   "execution_count": 63,
   "id": "2dd68d8e",
   "metadata": {
    "ExecuteTime": {
     "end_time": "2022-08-03T14:00:12.062409Z",
     "start_time": "2022-08-03T14:00:12.044321Z"
    }
   },
   "outputs": [],
   "source": [
    "def get_base_df(url, subreddit): \n",
    "    \n",
    "# set params\n",
    "\n",
    "    params = {\n",
    "    'subreddit':subreddit,\n",
    "    'size': 100\n",
    "    }\n",
    "    \n",
    "    res = requests.get(url, params)\n",
    "\n",
    "    if res.status_code != 200:\n",
    "        return f'Error: {res.status_code}'\n",
    "    else:\n",
    "        data = res.json()\n",
    "        posts = data['data']\n",
    "        \n",
    "    return pd.DataFrame(posts)\n",
    "\n",
    "\n",
    "# update params \n",
    "def update_params(base_df, subreddit): \n",
    "    \n",
    "    params = {\n",
    "    'subreddit':subreddit,\n",
    "    'size': 100,\n",
    "    'before':base_df.iloc[-1]['created_utc']\n",
    "    }\n",
    "    return params \n",
    "\n",
    "\n",
    "#pull posts \n",
    "\n",
    "def pull_posts(url, params):\n",
    "    \n",
    "    res = requests.get(url, params)\n",
    "    \n",
    "    if res.status_code != 200:\n",
    "        return f'Error: {res.status_code}'\n",
    "\n",
    "    else:\n",
    "        data = res.json()\n",
    "        posts = data['data']\n",
    "        \n",
    "        return posts\n",
    "\n",
    "#convert new posts to df \n",
    "\n",
    "def posts_to_df(posts):\n",
    "    return pd.DataFrame(posts)\n",
    "\n",
    "# add to base_df \n",
    "def update_base_df(base_df, posts):\n",
    "    frame = [base_df, posts]\n",
    "    base_df = pd.concat(frame)\n",
    "    return base_df\n",
    "\n",
    "#create function to update base_df with 100 posts\n",
    "def total_df(base_df, subreddit, url):\n",
    "\n",
    "    new_params = update_params(base_df, subreddit)\n",
    "\n",
    "    new_posts = pull_posts(url, new_params)\n",
    "\n",
    "    new_df = posts_to_df(new_posts)\n",
    "\n",
    "    base_df = base_df.append(new_df)\n",
    "\n",
    "    return base_df"
   ]
  },
  {
   "cell_type": "markdown",
   "id": "afc24765",
   "metadata": {},
   "source": [
    "### Web Scrape r/iPhone"
   ]
  },
  {
   "cell_type": "code",
   "execution_count": 64,
   "id": "dee5ca93",
   "metadata": {
    "ExecuteTime": {
     "end_time": "2022-08-03T14:00:16.940826Z",
     "start_time": "2022-08-03T14:00:14.737662Z"
    }
   },
   "outputs": [
    {
     "data": {
      "text/plain": [
       "(100, 78)"
      ]
     },
     "execution_count": 64,
     "metadata": {},
     "output_type": "execute_result"
    }
   ],
   "source": [
    "#Set up base df \n",
    "\n",
    "base_df_iphone = get_base_df('https://api.pushshift.io/reddit/search/submission', 'iphone')\n",
    "base_df_iphone.shape"
   ]
  },
  {
   "cell_type": "code",
   "execution_count": 65,
   "id": "08df049e",
   "metadata": {
    "ExecuteTime": {
     "end_time": "2022-08-03T14:00:20.894468Z",
     "start_time": "2022-08-03T14:00:20.873142Z"
    }
   },
   "outputs": [
    {
     "data": {
      "text/html": [
       "<div>\n",
       "<style scoped>\n",
       "    .dataframe tbody tr th:only-of-type {\n",
       "        vertical-align: middle;\n",
       "    }\n",
       "\n",
       "    .dataframe tbody tr th {\n",
       "        vertical-align: top;\n",
       "    }\n",
       "\n",
       "    .dataframe thead th {\n",
       "        text-align: right;\n",
       "    }\n",
       "</style>\n",
       "<table border=\"1\" class=\"dataframe\">\n",
       "  <thead>\n",
       "    <tr style=\"text-align: right;\">\n",
       "      <th></th>\n",
       "      <th>subreddit</th>\n",
       "      <th>selftext</th>\n",
       "      <th>title</th>\n",
       "      <th>created_utc</th>\n",
       "    </tr>\n",
       "  </thead>\n",
       "  <tbody>\n",
       "    <tr>\n",
       "      <th>0</th>\n",
       "      <td>iphone</td>\n",
       "      <td>&amp;amp;#x200B;\\n\\n[I noticed each apple blue pro...</td>\n",
       "      <td>Apple's blues</td>\n",
       "      <td>1659534803</td>\n",
       "    </tr>\n",
       "    <tr>\n",
       "      <th>1</th>\n",
       "      <td>iphone</td>\n",
       "      <td>The top left kind of corner on my iPhone 12 is...</td>\n",
       "      <td>Blurry corner</td>\n",
       "      <td>1659534340</td>\n",
       "    </tr>\n",
       "    <tr>\n",
       "      <th>2</th>\n",
       "      <td>iphone</td>\n",
       "      <td>iPhone 13 pro max now or is it better to wait ...</td>\n",
       "      <td>Iphone 13 pro max or wait for iPhone 14</td>\n",
       "      <td>1659534112</td>\n",
       "    </tr>\n",
       "    <tr>\n",
       "      <th>3</th>\n",
       "      <td>iphone</td>\n",
       "      <td>There are some weird things going on with my m...</td>\n",
       "      <td>Switched from a Pixel 6 to iPhone 13. Now I ca...</td>\n",
       "      <td>1659533915</td>\n",
       "    </tr>\n",
       "    <tr>\n",
       "      <th>4</th>\n",
       "      <td>iphone</td>\n",
       "      <td>Hey there, I’ve had iphone 4, iphone 8, and cu...</td>\n",
       "      <td>Is it worth buying iPhone pro max now or is it...</td>\n",
       "      <td>1659533779</td>\n",
       "    </tr>\n",
       "  </tbody>\n",
       "</table>\n",
       "</div>"
      ],
      "text/plain": [
       "  subreddit                                           selftext  \\\n",
       "0    iphone  &amp;#x200B;\\n\\n[I noticed each apple blue pro...   \n",
       "1    iphone  The top left kind of corner on my iPhone 12 is...   \n",
       "2    iphone  iPhone 13 pro max now or is it better to wait ...   \n",
       "3    iphone  There are some weird things going on with my m...   \n",
       "4    iphone  Hey there, I’ve had iphone 4, iphone 8, and cu...   \n",
       "\n",
       "                                               title  created_utc  \n",
       "0                                      Apple's blues   1659534803  \n",
       "1                                      Blurry corner   1659534340  \n",
       "2            Iphone 13 pro max or wait for iPhone 14   1659534112  \n",
       "3  Switched from a Pixel 6 to iPhone 13. Now I ca...   1659533915  \n",
       "4  Is it worth buying iPhone pro max now or is it...   1659533779  "
      ]
     },
     "execution_count": 65,
     "metadata": {},
     "output_type": "execute_result"
    }
   ],
   "source": [
    "base_df_iphone[['subreddit', 'selftext', 'title', 'created_utc']].head()"
   ]
  },
  {
   "cell_type": "code",
   "execution_count": 66,
   "id": "806ccb23",
   "metadata": {
    "ExecuteTime": {
     "end_time": "2022-08-03T14:05:04.580735Z",
     "start_time": "2022-08-03T14:00:24.893604Z"
    }
   },
   "outputs": [
    {
     "name": "stdout",
     "output_type": "stream",
     "text": [
      "(200, 79)\n",
      "(1198, 80)\n",
      "(2196, 81)\n",
      "(3196, 81)\n",
      "(4195, 81)\n",
      "(5195, 81)\n",
      "(6193, 81)\n",
      "(7171, 81)\n",
      "(8171, 81)\n",
      "(9171, 81)\n"
     ]
    },
    {
     "data": {
      "text/plain": [
       "(9971, 81)"
      ]
     },
     "execution_count": 66,
     "metadata": {},
     "output_type": "execute_result"
    }
   ],
   "source": [
    "for i in range(99):\n",
    "    base_df_iphone = total_df(base_df_iphone, 'iphone', 'https://api.pushshift.io/reddit/search/submission')\n",
    "\n",
    "    if i % 10 == 0:\n",
    "        print(base_df_iphone.shape)\n",
    "    \n",
    "base_df_iphone.shape"
   ]
  },
  {
   "cell_type": "code",
   "execution_count": 68,
   "id": "aa3e82b1",
   "metadata": {
    "ExecuteTime": {
     "end_time": "2022-08-03T14:06:28.627397Z",
     "start_time": "2022-08-03T14:06:28.606329Z"
    }
   },
   "outputs": [
    {
     "data": {
      "text/plain": [
       "6020"
      ]
     },
     "execution_count": 68,
     "metadata": {},
     "output_type": "execute_result"
    }
   ],
   "source": [
    "#looking at rows that are not duplicates\n",
    "len(base_df_iphone[\"selftext\"].unique())"
   ]
  },
  {
   "cell_type": "code",
   "execution_count": 72,
   "id": "d31c7181",
   "metadata": {
    "ExecuteTime": {
     "end_time": "2022-08-03T14:11:45.051729Z",
     "start_time": "2022-08-03T14:11:44.690056Z"
    }
   },
   "outputs": [],
   "source": [
    "base_df_iphone.to_csv('datasets/iphone.csv', index=False)"
   ]
  },
  {
   "cell_type": "markdown",
   "id": "e1f08c4f",
   "metadata": {},
   "source": [
    "### Web Scrape r/GooglePixel"
   ]
  },
  {
   "cell_type": "code",
   "execution_count": 69,
   "id": "b9d21e98",
   "metadata": {
    "ExecuteTime": {
     "end_time": "2022-08-03T14:07:04.571773Z",
     "start_time": "2022-08-03T14:07:02.359641Z"
    }
   },
   "outputs": [
    {
     "data": {
      "text/plain": [
       "(100, 76)"
      ]
     },
     "execution_count": 69,
     "metadata": {},
     "output_type": "execute_result"
    }
   ],
   "source": [
    "#Set up base df \n",
    "\n",
    "base_df_pixel = get_base_df('https://api.pushshift.io/reddit/search/submission', 'googlepixel')\n",
    "base_df_pixel.shape"
   ]
  },
  {
   "cell_type": "code",
   "execution_count": 70,
   "id": "d2c930a6",
   "metadata": {
    "ExecuteTime": {
     "end_time": "2022-08-03T14:07:04.684758Z",
     "start_time": "2022-08-03T14:07:04.679120Z"
    }
   },
   "outputs": [
    {
     "data": {
      "text/html": [
       "<div>\n",
       "<style scoped>\n",
       "    .dataframe tbody tr th:only-of-type {\n",
       "        vertical-align: middle;\n",
       "    }\n",
       "\n",
       "    .dataframe tbody tr th {\n",
       "        vertical-align: top;\n",
       "    }\n",
       "\n",
       "    .dataframe thead th {\n",
       "        text-align: right;\n",
       "    }\n",
       "</style>\n",
       "<table border=\"1\" class=\"dataframe\">\n",
       "  <thead>\n",
       "    <tr style=\"text-align: right;\">\n",
       "      <th></th>\n",
       "      <th>subreddit</th>\n",
       "      <th>selftext</th>\n",
       "      <th>title</th>\n",
       "      <th>created_utc</th>\n",
       "    </tr>\n",
       "  </thead>\n",
       "  <tbody>\n",
       "    <tr>\n",
       "      <th>0</th>\n",
       "      <td>GooglePixel</td>\n",
       "      <td>I change phones every 2-3 years and the Pixel ...</td>\n",
       "      <td>Will the Pixel 5 be able to safely last anothe...</td>\n",
       "      <td>1659535413</td>\n",
       "    </tr>\n",
       "    <tr>\n",
       "      <th>1</th>\n",
       "      <td>GooglePixel</td>\n",
       "      <td>My 4a's touch screen was partially not working...</td>\n",
       "      <td>Sent my pixel4a to B2X (out of warranty) and w...</td>\n",
       "      <td>1659535137</td>\n",
       "    </tr>\n",
       "    <tr>\n",
       "      <th>2</th>\n",
       "      <td>GooglePixel</td>\n",
       "      <td>That's it... I'm so burned out to put up with ...</td>\n",
       "      <td>Sick of the bugs in the Pixel 6</td>\n",
       "      <td>1659534933</td>\n",
       "    </tr>\n",
       "    <tr>\n",
       "      <th>3</th>\n",
       "      <td>GooglePixel</td>\n",
       "      <td></td>\n",
       "      <td>Buy Facebook Ads Accounts - 100% document Veri...</td>\n",
       "      <td>1659534253</td>\n",
       "    </tr>\n",
       "    <tr>\n",
       "      <th>4</th>\n",
       "      <td>GooglePixel</td>\n",
       "      <td>Hey everyone, is anyone else having a weird is...</td>\n",
       "      <td>Clock suddenly dark?</td>\n",
       "      <td>1659533888</td>\n",
       "    </tr>\n",
       "  </tbody>\n",
       "</table>\n",
       "</div>"
      ],
      "text/plain": [
       "     subreddit                                           selftext  \\\n",
       "0  GooglePixel  I change phones every 2-3 years and the Pixel ...   \n",
       "1  GooglePixel  My 4a's touch screen was partially not working...   \n",
       "2  GooglePixel  That's it... I'm so burned out to put up with ...   \n",
       "3  GooglePixel                                                      \n",
       "4  GooglePixel  Hey everyone, is anyone else having a weird is...   \n",
       "\n",
       "                                               title  created_utc  \n",
       "0  Will the Pixel 5 be able to safely last anothe...   1659535413  \n",
       "1  Sent my pixel4a to B2X (out of warranty) and w...   1659535137  \n",
       "2                    Sick of the bugs in the Pixel 6   1659534933  \n",
       "3  Buy Facebook Ads Accounts - 100% document Veri...   1659534253  \n",
       "4                               Clock suddenly dark?   1659533888  "
      ]
     },
     "execution_count": 70,
     "metadata": {},
     "output_type": "execute_result"
    }
   ],
   "source": [
    "base_df_pixel[['subreddit', 'selftext', 'title', 'created_utc']].head()"
   ]
  },
  {
   "cell_type": "code",
   "execution_count": 71,
   "id": "346a8b8b",
   "metadata": {
    "ExecuteTime": {
     "end_time": "2022-08-03T14:11:44.584696Z",
     "start_time": "2022-08-03T14:07:20.450190Z"
    }
   },
   "outputs": [
    {
     "name": "stdout",
     "output_type": "stream",
     "text": [
      "(199, 76)\n",
      "(1198, 78)\n",
      "(2198, 78)\n",
      "(3197, 79)\n",
      "(4197, 79)\n",
      "(5197, 79)\n",
      "(6196, 79)\n",
      "(7195, 79)\n",
      "(8195, 82)\n",
      "(9193, 82)\n"
     ]
    },
    {
     "data": {
      "text/plain": [
       "(9990, 82)"
      ]
     },
     "execution_count": 71,
     "metadata": {},
     "output_type": "execute_result"
    }
   ],
   "source": [
    "for i in range(99):\n",
    "    base_df_pixel = total_df(base_df_pixel, 'googlepixel', 'https://api.pushshift.io/reddit/search/submission')\n",
    "\n",
    "    if i % 10 == 0:\n",
    "        print(base_df_pixel.shape)   \n",
    "\n",
    "base_df_pixel.shape"
   ]
  },
  {
   "cell_type": "code",
   "execution_count": 73,
   "id": "e24b5255",
   "metadata": {
    "ExecuteTime": {
     "end_time": "2022-08-03T14:11:53.868966Z",
     "start_time": "2022-08-03T14:11:53.848443Z"
    }
   },
   "outputs": [
    {
     "data": {
      "text/plain": [
       "5892"
      ]
     },
     "execution_count": 73,
     "metadata": {},
     "output_type": "execute_result"
    }
   ],
   "source": [
    "#looking at rows that are not duplicates\n",
    "len(base_df_pixel[\"selftext\"].unique())"
   ]
  },
  {
   "cell_type": "code",
   "execution_count": 74,
   "id": "3e6980fe",
   "metadata": {
    "ExecuteTime": {
     "end_time": "2022-08-03T14:11:55.641915Z",
     "start_time": "2022-08-03T14:11:55.291583Z"
    }
   },
   "outputs": [],
   "source": [
    "base_df_pixel.to_csv('datasets/pixel.csv', index=False)"
   ]
  },
  {
   "cell_type": "code",
   "execution_count": null,
   "id": "2ddf79db",
   "metadata": {},
   "outputs": [],
   "source": []
  }
 ],
 "metadata": {
  "kernelspec": {
   "display_name": "Python 3",
   "language": "python",
   "name": "python3"
  },
  "language_info": {
   "codemirror_mode": {
    "name": "ipython",
    "version": 3
   },
   "file_extension": ".py",
   "mimetype": "text/x-python",
   "name": "python",
   "nbconvert_exporter": "python",
   "pygments_lexer": "ipython3",
   "version": "3.8.8"
  },
  "varInspector": {
   "cols": {
    "lenName": 16,
    "lenType": 16,
    "lenVar": 40
   },
   "kernels_config": {
    "python": {
     "delete_cmd_postfix": "",
     "delete_cmd_prefix": "del ",
     "library": "var_list.py",
     "varRefreshCmd": "print(var_dic_list())"
    },
    "r": {
     "delete_cmd_postfix": ") ",
     "delete_cmd_prefix": "rm(",
     "library": "var_list.r",
     "varRefreshCmd": "cat(var_dic_list()) "
    }
   },
   "types_to_exclude": [
    "module",
    "function",
    "builtin_function_or_method",
    "instance",
    "_Feature"
   ],
   "window_display": false
  }
 },
 "nbformat": 4,
 "nbformat_minor": 5
}
