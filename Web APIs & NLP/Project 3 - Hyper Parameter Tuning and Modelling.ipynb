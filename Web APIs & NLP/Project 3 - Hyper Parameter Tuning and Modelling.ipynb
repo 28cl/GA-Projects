{
 "cells": [
  {
   "cell_type": "markdown",
   "id": "18c3f2bc",
   "metadata": {},
   "source": [
    "# Project 3: Web APIs & NLP (Hyper Parameter Tuning and Modelling)"
   ]
  },
  {
   "cell_type": "markdown",
   "id": "979d4151",
   "metadata": {},
   "source": [
    "## Part 4: Hyperparameter Tuning and Modelling"
   ]
  },
  {
   "cell_type": "markdown",
   "id": "df4dc2c9",
   "metadata": {},
   "source": [
    "### Import Libraries"
   ]
  },
  {
   "cell_type": "code",
   "execution_count": 1,
   "id": "6cead9df",
   "metadata": {
    "ExecuteTime": {
     "end_time": "2022-08-13T00:04:30.714282Z",
     "start_time": "2022-08-13T00:04:29.726178Z"
    }
   },
   "outputs": [],
   "source": [
    "#import libraries\n",
    "import requests\n",
    "import pandas as pd\n",
    "import numpy as np\n",
    "import seaborn as sns\n",
    "import matplotlib.pyplot as plt\n",
    "import regex as re\n",
    "import pickle\n",
    "\n",
    "from nltk.tokenize import sent_tokenize, word_tokenize, RegexpTokenizer\n",
    "from nltk.stem import WordNetLemmatizer\n",
    "from nltk.stem.porter import PorterStemmer\n",
    "from nltk.corpus import stopwords\n",
    "from sklearn.feature_extraction.text import CountVectorizer, TfidfVectorizer\n",
    "\n",
    "from sklearn.linear_model import LogisticRegression\n",
    "from sklearn.compose import ColumnTransformer\n",
    "from sklearn.naive_bayes import MultinomialNB\n",
    "from sklearn.neighbors import KNeighborsClassifier\n",
    "from sklearn.svm import SVC\n",
    "from sklearn.model_selection import train_test_split, GridSearchCV, RandomizedSearchCV,ParameterGrid\n",
    "from sklearn.pipeline import Pipeline\n",
    "from sklearn.tree import DecisionTreeClassifier\n",
    "from sklearn.ensemble import RandomForestClassifier,VotingClassifier,AdaBoostClassifier,BaggingClassifier,GradientBoostingClassifier\n",
    "from sklearn.metrics import roc_auc_score, plot_roc_curve, roc_curve, plot_confusion_matrix, confusion_matrix"
   ]
  },
  {
   "cell_type": "code",
   "execution_count": 2,
   "id": "cc8e89c4",
   "metadata": {
    "ExecuteTime": {
     "end_time": "2022-08-13T00:04:31.350049Z",
     "start_time": "2022-08-13T00:04:31.307510Z"
    }
   },
   "outputs": [],
   "source": [
    "df = pd.read_pickle('datasets/combined.pkl')"
   ]
  },
  {
   "cell_type": "code",
   "execution_count": 3,
   "id": "c1176530",
   "metadata": {
    "ExecuteTime": {
     "end_time": "2022-08-13T00:04:32.313883Z",
     "start_time": "2022-08-13T00:04:32.286989Z"
    },
    "scrolled": false
   },
   "outputs": [
    {
     "data": {
      "text/html": [
       "<div>\n",
       "<style scoped>\n",
       "    .dataframe tbody tr th:only-of-type {\n",
       "        vertical-align: middle;\n",
       "    }\n",
       "\n",
       "    .dataframe tbody tr th {\n",
       "        vertical-align: top;\n",
       "    }\n",
       "\n",
       "    .dataframe thead th {\n",
       "        text-align: right;\n",
       "    }\n",
       "</style>\n",
       "<table border=\"1\" class=\"dataframe\">\n",
       "  <thead>\n",
       "    <tr style=\"text-align: right;\">\n",
       "      <th></th>\n",
       "      <th>subreddit</th>\n",
       "      <th>title</th>\n",
       "      <th>selftext</th>\n",
       "      <th>all</th>\n",
       "      <th>all_tokens</th>\n",
       "      <th>clean_tokens</th>\n",
       "      <th>lem_tokens</th>\n",
       "      <th>title_length</th>\n",
       "      <th>selftext_length</th>\n",
       "      <th>title_word_count</th>\n",
       "      <th>selftext_word_count</th>\n",
       "    </tr>\n",
       "  </thead>\n",
       "  <tbody>\n",
       "    <tr>\n",
       "      <th>0</th>\n",
       "      <td>iphone</td>\n",
       "      <td>iphone pro max  wait for iphone</td>\n",
       "      <td>iphone pro max now    better  wait for the iph...</td>\n",
       "      <td>iphone pro max  wait for iphone iphone pro max...</td>\n",
       "      <td>iphone pro max wait for iphone iphone pro max ...</td>\n",
       "      <td>iphone max wait iphone iphone max better wait ...</td>\n",
       "      <td>iphone max wait iphone iphone max better wait ...</td>\n",
       "      <td>31</td>\n",
       "      <td>271</td>\n",
       "      <td>6</td>\n",
       "      <td>44</td>\n",
       "    </tr>\n",
       "    <tr>\n",
       "      <th>1</th>\n",
       "      <td>iphone</td>\n",
       "      <td>switched from  pixel  iphone now  can receive ...</td>\n",
       "      <td>there are some weird things going  with  messa...</td>\n",
       "      <td>switched from  pixel  iphone now  can receive ...</td>\n",
       "      <td>switched from pixel iphone now can receive pho...</td>\n",
       "      <td>switched pixel iphone receive photos android u...</td>\n",
       "      <td>switched pixel iphone receive photo android us...</td>\n",
       "      <td>102</td>\n",
       "      <td>952</td>\n",
       "      <td>17</td>\n",
       "      <td>152</td>\n",
       "    </tr>\n",
       "    <tr>\n",
       "      <th>2</th>\n",
       "      <td>iphone</td>\n",
       "      <td>worth buying iphone pro max now    better  w...</td>\n",
       "      <td>hey there  had iphone iphone and currently usi...</td>\n",
       "      <td>worth buying iphone pro max now    better  w...</td>\n",
       "      <td>worth buying iphone pro max now better wait fo...</td>\n",
       "      <td>worth buying iphone max better wait iphone rel...</td>\n",
       "      <td>worth buying iphone max better wait iphone rel...</td>\n",
       "      <td>72</td>\n",
       "      <td>266</td>\n",
       "      <td>12</td>\n",
       "      <td>42</td>\n",
       "    </tr>\n",
       "    <tr>\n",
       "      <th>3</th>\n",
       "      <td>iphone</td>\n",
       "      <td>iphone keeps going between normal and green</td>\n",
       "      <td>iphone recently got really wet   storm and si...</td>\n",
       "      <td>iphone keeps going between normal and green  i...</td>\n",
       "      <td>iphone keeps going between normal and green ip...</td>\n",
       "      <td>iphone keeps going normal green iphone recentl...</td>\n",
       "      <td>iphone keep going normal green iphone recently...</td>\n",
       "      <td>43</td>\n",
       "      <td>316</td>\n",
       "      <td>7</td>\n",
       "      <td>54</td>\n",
       "    </tr>\n",
       "    <tr>\n",
       "      <th>4</th>\n",
       "      <td>iphone</td>\n",
       "      <td>apple  launching  dsp advanced ads platform</td>\n",
       "      <td>one surprise the promises  privacy   tech gi...</td>\n",
       "      <td>apple  launching  dsp advanced ads platform   ...</td>\n",
       "      <td>apple launching dsp advanced ads platform one ...</td>\n",
       "      <td>apple launching dsp advanced ads platform one ...</td>\n",
       "      <td>apple launching dsp advanced ad platform one s...</td>\n",
       "      <td>43</td>\n",
       "      <td>83</td>\n",
       "      <td>6</td>\n",
       "      <td>13</td>\n",
       "    </tr>\n",
       "  </tbody>\n",
       "</table>\n",
       "</div>"
      ],
      "text/plain": [
       "  subreddit                                              title  \\\n",
       "0    iphone                    iphone pro max  wait for iphone   \n",
       "1    iphone  switched from  pixel  iphone now  can receive ...   \n",
       "2    iphone    worth buying iphone pro max now    better  w...   \n",
       "3    iphone        iphone keeps going between normal and green   \n",
       "4    iphone        apple  launching  dsp advanced ads platform   \n",
       "\n",
       "                                            selftext  \\\n",
       "0  iphone pro max now    better  wait for the iph...   \n",
       "1  there are some weird things going  with  messa...   \n",
       "2  hey there  had iphone iphone and currently usi...   \n",
       "3   iphone recently got really wet   storm and si...   \n",
       "4    one surprise the promises  privacy   tech gi...   \n",
       "\n",
       "                                                 all  \\\n",
       "0  iphone pro max  wait for iphone iphone pro max...   \n",
       "1  switched from  pixel  iphone now  can receive ...   \n",
       "2    worth buying iphone pro max now    better  w...   \n",
       "3  iphone keeps going between normal and green  i...   \n",
       "4  apple  launching  dsp advanced ads platform   ...   \n",
       "\n",
       "                                          all_tokens  \\\n",
       "0  iphone pro max wait for iphone iphone pro max ...   \n",
       "1  switched from pixel iphone now can receive pho...   \n",
       "2  worth buying iphone pro max now better wait fo...   \n",
       "3  iphone keeps going between normal and green ip...   \n",
       "4  apple launching dsp advanced ads platform one ...   \n",
       "\n",
       "                                        clean_tokens  \\\n",
       "0  iphone max wait iphone iphone max better wait ...   \n",
       "1  switched pixel iphone receive photos android u...   \n",
       "2  worth buying iphone max better wait iphone rel...   \n",
       "3  iphone keeps going normal green iphone recentl...   \n",
       "4  apple launching dsp advanced ads platform one ...   \n",
       "\n",
       "                                          lem_tokens  title_length  \\\n",
       "0  iphone max wait iphone iphone max better wait ...            31   \n",
       "1  switched pixel iphone receive photo android us...           102   \n",
       "2  worth buying iphone max better wait iphone rel...            72   \n",
       "3  iphone keep going normal green iphone recently...            43   \n",
       "4  apple launching dsp advanced ad platform one s...            43   \n",
       "\n",
       "   selftext_length  title_word_count  selftext_word_count  \n",
       "0              271                 6                   44  \n",
       "1              952                17                  152  \n",
       "2              266                12                   42  \n",
       "3              316                 7                   54  \n",
       "4               83                 6                   13  "
      ]
     },
     "execution_count": 3,
     "metadata": {},
     "output_type": "execute_result"
    }
   ],
   "source": [
    "#check if correctly imported\n",
    "df.head()"
   ]
  },
  {
   "cell_type": "code",
   "execution_count": 4,
   "id": "315f9643",
   "metadata": {
    "ExecuteTime": {
     "end_time": "2022-08-13T00:04:33.332044Z",
     "start_time": "2022-08-13T00:04:33.326012Z"
    }
   },
   "outputs": [],
   "source": [
    "#remove general stopwords in the english language \n",
    "#remove additional words that are common for both subreddits\n",
    "add_words = ['phone', 'mobile', 'handphone', 'pro', 'app', 'would', 'screen', 'like', 'get']\n",
    "stop_words = stopwords.words('english') + add_words"
   ]
  },
  {
   "cell_type": "markdown",
   "id": "bddbfe0b",
   "metadata": {},
   "source": [
    "### Baseline"
   ]
  },
  {
   "cell_type": "code",
   "execution_count": 5,
   "id": "ece43419",
   "metadata": {
    "ExecuteTime": {
     "end_time": "2022-08-13T00:04:35.394646Z",
     "start_time": "2022-08-13T00:04:35.368960Z"
    }
   },
   "outputs": [
    {
     "data": {
      "text/html": [
       "<div>\n",
       "<style scoped>\n",
       "    .dataframe tbody tr th:only-of-type {\n",
       "        vertical-align: middle;\n",
       "    }\n",
       "\n",
       "    .dataframe tbody tr th {\n",
       "        vertical-align: top;\n",
       "    }\n",
       "\n",
       "    .dataframe thead th {\n",
       "        text-align: right;\n",
       "    }\n",
       "</style>\n",
       "<table border=\"1\" class=\"dataframe\">\n",
       "  <thead>\n",
       "    <tr style=\"text-align: right;\">\n",
       "      <th></th>\n",
       "      <th>subreddit</th>\n",
       "      <th>title</th>\n",
       "      <th>selftext</th>\n",
       "      <th>all</th>\n",
       "      <th>all_tokens</th>\n",
       "      <th>clean_tokens</th>\n",
       "      <th>lem_tokens</th>\n",
       "      <th>title_length</th>\n",
       "      <th>selftext_length</th>\n",
       "      <th>title_word_count</th>\n",
       "      <th>selftext_word_count</th>\n",
       "    </tr>\n",
       "  </thead>\n",
       "  <tbody>\n",
       "    <tr>\n",
       "      <th>0</th>\n",
       "      <td>0</td>\n",
       "      <td>iphone pro max  wait for iphone</td>\n",
       "      <td>iphone pro max now    better  wait for the iph...</td>\n",
       "      <td>iphone pro max  wait for iphone iphone pro max...</td>\n",
       "      <td>iphone pro max wait for iphone iphone pro max ...</td>\n",
       "      <td>iphone max wait iphone iphone max better wait ...</td>\n",
       "      <td>iphone max wait iphone iphone max better wait ...</td>\n",
       "      <td>31</td>\n",
       "      <td>271</td>\n",
       "      <td>6</td>\n",
       "      <td>44</td>\n",
       "    </tr>\n",
       "    <tr>\n",
       "      <th>1</th>\n",
       "      <td>0</td>\n",
       "      <td>switched from  pixel  iphone now  can receive ...</td>\n",
       "      <td>there are some weird things going  with  messa...</td>\n",
       "      <td>switched from  pixel  iphone now  can receive ...</td>\n",
       "      <td>switched from pixel iphone now can receive pho...</td>\n",
       "      <td>switched pixel iphone receive photos android u...</td>\n",
       "      <td>switched pixel iphone receive photo android us...</td>\n",
       "      <td>102</td>\n",
       "      <td>952</td>\n",
       "      <td>17</td>\n",
       "      <td>152</td>\n",
       "    </tr>\n",
       "    <tr>\n",
       "      <th>2</th>\n",
       "      <td>0</td>\n",
       "      <td>worth buying iphone pro max now    better  w...</td>\n",
       "      <td>hey there  had iphone iphone and currently usi...</td>\n",
       "      <td>worth buying iphone pro max now    better  w...</td>\n",
       "      <td>worth buying iphone pro max now better wait fo...</td>\n",
       "      <td>worth buying iphone max better wait iphone rel...</td>\n",
       "      <td>worth buying iphone max better wait iphone rel...</td>\n",
       "      <td>72</td>\n",
       "      <td>266</td>\n",
       "      <td>12</td>\n",
       "      <td>42</td>\n",
       "    </tr>\n",
       "    <tr>\n",
       "      <th>3</th>\n",
       "      <td>0</td>\n",
       "      <td>iphone keeps going between normal and green</td>\n",
       "      <td>iphone recently got really wet   storm and si...</td>\n",
       "      <td>iphone keeps going between normal and green  i...</td>\n",
       "      <td>iphone keeps going between normal and green ip...</td>\n",
       "      <td>iphone keeps going normal green iphone recentl...</td>\n",
       "      <td>iphone keep going normal green iphone recently...</td>\n",
       "      <td>43</td>\n",
       "      <td>316</td>\n",
       "      <td>7</td>\n",
       "      <td>54</td>\n",
       "    </tr>\n",
       "    <tr>\n",
       "      <th>4</th>\n",
       "      <td>0</td>\n",
       "      <td>apple  launching  dsp advanced ads platform</td>\n",
       "      <td>one surprise the promises  privacy   tech gi...</td>\n",
       "      <td>apple  launching  dsp advanced ads platform   ...</td>\n",
       "      <td>apple launching dsp advanced ads platform one ...</td>\n",
       "      <td>apple launching dsp advanced ads platform one ...</td>\n",
       "      <td>apple launching dsp advanced ad platform one s...</td>\n",
       "      <td>43</td>\n",
       "      <td>83</td>\n",
       "      <td>6</td>\n",
       "      <td>13</td>\n",
       "    </tr>\n",
       "  </tbody>\n",
       "</table>\n",
       "</div>"
      ],
      "text/plain": [
       "   subreddit                                              title  \\\n",
       "0          0                    iphone pro max  wait for iphone   \n",
       "1          0  switched from  pixel  iphone now  can receive ...   \n",
       "2          0    worth buying iphone pro max now    better  w...   \n",
       "3          0        iphone keeps going between normal and green   \n",
       "4          0        apple  launching  dsp advanced ads platform   \n",
       "\n",
       "                                            selftext  \\\n",
       "0  iphone pro max now    better  wait for the iph...   \n",
       "1  there are some weird things going  with  messa...   \n",
       "2  hey there  had iphone iphone and currently usi...   \n",
       "3   iphone recently got really wet   storm and si...   \n",
       "4    one surprise the promises  privacy   tech gi...   \n",
       "\n",
       "                                                 all  \\\n",
       "0  iphone pro max  wait for iphone iphone pro max...   \n",
       "1  switched from  pixel  iphone now  can receive ...   \n",
       "2    worth buying iphone pro max now    better  w...   \n",
       "3  iphone keeps going between normal and green  i...   \n",
       "4  apple  launching  dsp advanced ads platform   ...   \n",
       "\n",
       "                                          all_tokens  \\\n",
       "0  iphone pro max wait for iphone iphone pro max ...   \n",
       "1  switched from pixel iphone now can receive pho...   \n",
       "2  worth buying iphone pro max now better wait fo...   \n",
       "3  iphone keeps going between normal and green ip...   \n",
       "4  apple launching dsp advanced ads platform one ...   \n",
       "\n",
       "                                        clean_tokens  \\\n",
       "0  iphone max wait iphone iphone max better wait ...   \n",
       "1  switched pixel iphone receive photos android u...   \n",
       "2  worth buying iphone max better wait iphone rel...   \n",
       "3  iphone keeps going normal green iphone recentl...   \n",
       "4  apple launching dsp advanced ads platform one ...   \n",
       "\n",
       "                                          lem_tokens  title_length  \\\n",
       "0  iphone max wait iphone iphone max better wait ...            31   \n",
       "1  switched pixel iphone receive photo android us...           102   \n",
       "2  worth buying iphone max better wait iphone rel...            72   \n",
       "3  iphone keep going normal green iphone recently...            43   \n",
       "4  apple launching dsp advanced ad platform one s...            43   \n",
       "\n",
       "   selftext_length  title_word_count  selftext_word_count  \n",
       "0              271                 6                   44  \n",
       "1              952                17                  152  \n",
       "2              266                12                   42  \n",
       "3              316                 7                   54  \n",
       "4               83                 6                   13  "
      ]
     },
     "execution_count": 5,
     "metadata": {},
     "output_type": "execute_result"
    }
   ],
   "source": [
    "df['subreddit'] = df['subreddit'].map({'iphone': 0, 'googlepixel': 1})\n",
    "df.head()"
   ]
  },
  {
   "cell_type": "code",
   "execution_count": 6,
   "id": "63f4f4ff",
   "metadata": {
    "ExecuteTime": {
     "end_time": "2022-08-13T00:04:36.216597Z",
     "start_time": "2022-08-13T00:04:36.194322Z"
    }
   },
   "outputs": [
    {
     "data": {
      "text/html": [
       "<div>\n",
       "<style scoped>\n",
       "    .dataframe tbody tr th:only-of-type {\n",
       "        vertical-align: middle;\n",
       "    }\n",
       "\n",
       "    .dataframe tbody tr th {\n",
       "        vertical-align: top;\n",
       "    }\n",
       "\n",
       "    .dataframe thead th {\n",
       "        text-align: right;\n",
       "    }\n",
       "</style>\n",
       "<table border=\"1\" class=\"dataframe\">\n",
       "  <thead>\n",
       "    <tr style=\"text-align: right;\">\n",
       "      <th></th>\n",
       "      <th>subreddit</th>\n",
       "      <th>title</th>\n",
       "      <th>selftext</th>\n",
       "      <th>all</th>\n",
       "      <th>all_tokens</th>\n",
       "      <th>clean_tokens</th>\n",
       "      <th>lem_tokens</th>\n",
       "      <th>title_length</th>\n",
       "      <th>selftext_length</th>\n",
       "      <th>title_word_count</th>\n",
       "      <th>selftext_word_count</th>\n",
       "    </tr>\n",
       "  </thead>\n",
       "  <tbody>\n",
       "    <tr>\n",
       "      <th>10999</th>\n",
       "      <td>1</td>\n",
       "      <td>pixel update animation bug anyone else experie...</td>\n",
       "      <td>prerequisites pixel animations config set  fal...</td>\n",
       "      <td>pixel update animation bug anyone else experie...</td>\n",
       "      <td>pixel update animation bug anyone else experie...</td>\n",
       "      <td>pixel update animation bug anyone else experie...</td>\n",
       "      <td>pixel update animation bug anyone else experie...</td>\n",
       "      <td>67</td>\n",
       "      <td>336</td>\n",
       "      <td>9</td>\n",
       "      <td>45</td>\n",
       "    </tr>\n",
       "    <tr>\n",
       "      <th>11000</th>\n",
       "      <td>1</td>\n",
       "      <td>country code issue  google contacts</td>\n",
       "      <td>having this issue with  contacts  all  conta...</td>\n",
       "      <td>country code issue  google contacts   having t...</td>\n",
       "      <td>country code issue google contacts having this...</td>\n",
       "      <td>country code issue google contacts issue conta...</td>\n",
       "      <td>country code issue google contact issue contac...</td>\n",
       "      <td>35</td>\n",
       "      <td>475</td>\n",
       "      <td>5</td>\n",
       "      <td>75</td>\n",
       "    </tr>\n",
       "    <tr>\n",
       "      <th>11001</th>\n",
       "      <td>1</td>\n",
       "      <td>things that stand out about pixel pro</td>\n",
       "      <td>considering upgrading   pixel pro from  trust...</td>\n",
       "      <td>things that stand out about pixel pro  conside...</td>\n",
       "      <td>things that stand out about pixel pro consider...</td>\n",
       "      <td>things stand pixel considering upgrading pixel...</td>\n",
       "      <td>thing stand pixel considering upgrading pixel ...</td>\n",
       "      <td>37</td>\n",
       "      <td>278</td>\n",
       "      <td>7</td>\n",
       "      <td>41</td>\n",
       "    </tr>\n",
       "    <tr>\n",
       "      <th>11002</th>\n",
       "      <td>1</td>\n",
       "      <td>custom rom recommendation pixel</td>\n",
       "      <td>have  pixel  looking for  stable android rom...</td>\n",
       "      <td>custom rom recommendation pixel    have  pixel...</td>\n",
       "      <td>custom rom recommendation pixel have pixel loo...</td>\n",
       "      <td>custom rom recommendation pixel pixel looking ...</td>\n",
       "      <td>custom rom recommendation pixel pixel looking ...</td>\n",
       "      <td>32</td>\n",
       "      <td>140</td>\n",
       "      <td>4</td>\n",
       "      <td>21</td>\n",
       "    </tr>\n",
       "    <tr>\n",
       "      <th>11003</th>\n",
       "      <td>1</td>\n",
       "      <td>why can  use hotspot without needing  restart ...</td>\n",
       "      <td>don know when  started but when  turn  hotspo...</td>\n",
       "      <td>why can  use hotspot without needing  restart ...</td>\n",
       "      <td>why can use hotspot without needing restart pi...</td>\n",
       "      <td>use hotspot without needing restart pixel know...</td>\n",
       "      <td>use hotspot without needing restart pixel know...</td>\n",
       "      <td>52</td>\n",
       "      <td>120</td>\n",
       "      <td>8</td>\n",
       "      <td>18</td>\n",
       "    </tr>\n",
       "  </tbody>\n",
       "</table>\n",
       "</div>"
      ],
      "text/plain": [
       "       subreddit                                              title  \\\n",
       "10999          1  pixel update animation bug anyone else experie...   \n",
       "11000          1                country code issue  google contacts   \n",
       "11001          1              things that stand out about pixel pro   \n",
       "11002          1                   custom rom recommendation pixel    \n",
       "11003          1  why can  use hotspot without needing  restart ...   \n",
       "\n",
       "                                                selftext  \\\n",
       "10999  prerequisites pixel animations config set  fal...   \n",
       "11000    having this issue with  contacts  all  conta...   \n",
       "11001   considering upgrading   pixel pro from  trust...   \n",
       "11002    have  pixel  looking for  stable android rom...   \n",
       "11003   don know when  started but when  turn  hotspo...   \n",
       "\n",
       "                                                     all  \\\n",
       "10999  pixel update animation bug anyone else experie...   \n",
       "11000  country code issue  google contacts   having t...   \n",
       "11001  things that stand out about pixel pro  conside...   \n",
       "11002  custom rom recommendation pixel    have  pixel...   \n",
       "11003  why can  use hotspot without needing  restart ...   \n",
       "\n",
       "                                              all_tokens  \\\n",
       "10999  pixel update animation bug anyone else experie...   \n",
       "11000  country code issue google contacts having this...   \n",
       "11001  things that stand out about pixel pro consider...   \n",
       "11002  custom rom recommendation pixel have pixel loo...   \n",
       "11003  why can use hotspot without needing restart pi...   \n",
       "\n",
       "                                            clean_tokens  \\\n",
       "10999  pixel update animation bug anyone else experie...   \n",
       "11000  country code issue google contacts issue conta...   \n",
       "11001  things stand pixel considering upgrading pixel...   \n",
       "11002  custom rom recommendation pixel pixel looking ...   \n",
       "11003  use hotspot without needing restart pixel know...   \n",
       "\n",
       "                                              lem_tokens  title_length  \\\n",
       "10999  pixel update animation bug anyone else experie...            67   \n",
       "11000  country code issue google contact issue contac...            35   \n",
       "11001  thing stand pixel considering upgrading pixel ...            37   \n",
       "11002  custom rom recommendation pixel pixel looking ...            32   \n",
       "11003  use hotspot without needing restart pixel know...            52   \n",
       "\n",
       "       selftext_length  title_word_count  selftext_word_count  \n",
       "10999              336                 9                   45  \n",
       "11000              475                 5                   75  \n",
       "11001              278                 7                   41  \n",
       "11002              140                 4                   21  \n",
       "11003              120                 8                   18  "
      ]
     },
     "execution_count": 6,
     "metadata": {},
     "output_type": "execute_result"
    }
   ],
   "source": [
    "df.tail()"
   ]
  },
  {
   "cell_type": "code",
   "execution_count": 7,
   "id": "b5aec527",
   "metadata": {
    "ExecuteTime": {
     "end_time": "2022-08-13T00:04:37.099897Z",
     "start_time": "2022-08-13T00:04:37.090029Z"
    }
   },
   "outputs": [
    {
     "data": {
      "text/plain": [
       "(11004, 11)"
      ]
     },
     "execution_count": 7,
     "metadata": {},
     "output_type": "execute_result"
    }
   ],
   "source": [
    "df.shape"
   ]
  },
  {
   "cell_type": "code",
   "execution_count": 8,
   "id": "209436b7",
   "metadata": {
    "ExecuteTime": {
     "end_time": "2022-08-13T00:04:38.151943Z",
     "start_time": "2022-08-13T00:04:38.144773Z"
    }
   },
   "outputs": [],
   "source": [
    "X = df['lem_tokens']\n",
    "y = df['subreddit']"
   ]
  },
  {
   "cell_type": "code",
   "execution_count": 9,
   "id": "cc2a3cf9",
   "metadata": {
    "ExecuteTime": {
     "end_time": "2022-08-13T00:04:39.139271Z",
     "start_time": "2022-08-13T00:04:39.115510Z"
    }
   },
   "outputs": [],
   "source": [
    "X_train, X_test, y_train, y_test = train_test_split(X, y, test_size=0.3, stratify=y, random_state=42)"
   ]
  },
  {
   "cell_type": "code",
   "execution_count": 10,
   "id": "77fb46af",
   "metadata": {
    "ExecuteTime": {
     "end_time": "2022-08-13T00:04:39.935040Z",
     "start_time": "2022-08-13T00:04:39.927417Z"
    }
   },
   "outputs": [
    {
     "name": "stdout",
     "output_type": "stream",
     "text": [
      "(7702,)\n",
      "(7702,)\n",
      "(3302,)\n",
      "(3302,)\n"
     ]
    }
   ],
   "source": [
    "print(X_train.shape)\n",
    "print(y_train.shape)\n",
    "print(X_test.shape)\n",
    "print(y_test.shape)"
   ]
  },
  {
   "cell_type": "code",
   "execution_count": 11,
   "id": "11e0336c",
   "metadata": {
    "ExecuteTime": {
     "end_time": "2022-08-13T00:04:41.801068Z",
     "start_time": "2022-08-13T00:04:41.775043Z"
    }
   },
   "outputs": [
    {
     "data": {
      "text/plain": [
       "0    0.50727\n",
       "1    0.49273\n",
       "Name: subreddit, dtype: float64"
      ]
     },
     "execution_count": 11,
     "metadata": {},
     "output_type": "execute_result"
    }
   ],
   "source": [
    "y.value_counts(normalize = True)"
   ]
  },
  {
   "cell_type": "markdown",
   "id": "321fd709",
   "metadata": {},
   "source": [
    "### Multinomial Naive Bayes model"
   ]
  },
  {
   "cell_type": "markdown",
   "id": "f9aff433",
   "metadata": {},
   "source": [
    "#### Multinomial Naive Bayes with Count Vectorizer"
   ]
  },
  {
   "cell_type": "code",
   "execution_count": 12,
   "id": "8247651e",
   "metadata": {
    "ExecuteTime": {
     "end_time": "2022-08-13T00:04:46.500779Z",
     "start_time": "2022-08-13T00:04:46.487683Z"
    }
   },
   "outputs": [],
   "source": [
    "def get_metrics(modelname, model, X_train, X_test):\n",
    "    print(modelname)\n",
    "    print(u'\\u2500' * 30)\n",
    "    print(f\"Accuracy score of training set: {round(100* model.score(X_train, y_train),2)}%\")\n",
    "    print(f\"Accuracy score of testing set: {round(100* model.score(X_test, y_test),2)}%\")\n",
    "    print(u'\\u2500' * 30)    \n",
    "    return plot_confusion_matrix(model, X_test, y_test)"
   ]
  },
  {
   "cell_type": "code",
   "execution_count": 13,
   "id": "f22a67fa",
   "metadata": {
    "ExecuteTime": {
     "end_time": "2022-08-13T00:04:47.253773Z",
     "start_time": "2022-08-13T00:04:47.243567Z"
    }
   },
   "outputs": [],
   "source": [
    "#instantiate CountVectorizer + MultinomialNB pipeline\n",
    "pipe_nb_cvec = Pipeline([\n",
    "    ('cvec', CountVectorizer(stop_words = stop_words)),\n",
    "    ('nb', MultinomialNB())\n",
    "])\n",
    "\n",
    "# define pipeline parameters\n",
    "pipe_nb_cvec_params = {\n",
    "    'cvec__max_features': [2_000, 5_000, 10_000],\n",
    "    'cvec__min_df': [2, 5, 8],\n",
    "    'cvec__max_df': [0.9, 0.95],\n",
    "    'cvec__ngram_range': [(1,1), (1,2)]\n",
    "}\n",
    "\n",
    "# instantiate GridSearchCV\n",
    "grid_nb_cvec = GridSearchCV(estimator=pipe_nb_cvec,\n",
    "                      param_grid=pipe_nb_cvec_params,\n",
    "                      cv=5, n_jobs=-1)"
   ]
  },
  {
   "cell_type": "code",
   "execution_count": 14,
   "id": "b86063b4",
   "metadata": {
    "ExecuteTime": {
     "end_time": "2022-08-13T00:05:02.676440Z",
     "start_time": "2022-08-13T00:04:47.991742Z"
    }
   },
   "outputs": [
    {
     "data": {
      "text/plain": [
       "GridSearchCV(cv=5,\n",
       "             estimator=Pipeline(steps=[('cvec',\n",
       "                                        CountVectorizer(stop_words=['i', 'me',\n",
       "                                                                    'my',\n",
       "                                                                    'myself',\n",
       "                                                                    'we', 'our',\n",
       "                                                                    'ours',\n",
       "                                                                    'ourselves',\n",
       "                                                                    'you',\n",
       "                                                                    \"you're\",\n",
       "                                                                    \"you've\",\n",
       "                                                                    \"you'll\",\n",
       "                                                                    \"you'd\",\n",
       "                                                                    'your',\n",
       "                                                                    'yours',\n",
       "                                                                    'yourself',\n",
       "                                                                    'yourselves',\n",
       "                                                                    'he', 'him',\n",
       "                                                                    'his',\n",
       "                                                                    'himself',\n",
       "                                                                    'she',\n",
       "                                                                    \"she's\",\n",
       "                                                                    'her',\n",
       "                                                                    'hers',\n",
       "                                                                    'herself',\n",
       "                                                                    'it',\n",
       "                                                                    \"it's\",\n",
       "                                                                    'its',\n",
       "                                                                    'itself', ...])),\n",
       "                                       ('nb', MultinomialNB())]),\n",
       "             n_jobs=-1,\n",
       "             param_grid={'cvec__max_df': [0.9, 0.95],\n",
       "                         'cvec__max_features': [2000, 5000, 10000],\n",
       "                         'cvec__min_df': [2, 5, 8],\n",
       "                         'cvec__ngram_range': [(1, 1), (1, 2)]})"
      ]
     },
     "execution_count": 14,
     "metadata": {},
     "output_type": "execute_result"
    }
   ],
   "source": [
    "#fit GridSearchCV object to data\n",
    "grid_nb_cvec.fit(X_train, y_train)"
   ]
  },
  {
   "cell_type": "code",
   "execution_count": 23,
   "id": "59b9661d",
   "metadata": {
    "ExecuteTime": {
     "end_time": "2022-08-13T00:06:09.296257Z",
     "start_time": "2022-08-13T00:06:08.428575Z"
    }
   },
   "outputs": [
    {
     "name": "stdout",
     "output_type": "stream",
     "text": [
      "Multinomial Naive Bayes Model with Count Vectorizer\n",
      "──────────────────────────────\n",
      "Accuracy score of training set: 94.53%\n",
      "Accuracy score of testing set: 92.7%\n",
      "──────────────────────────────\n"
     ]
    },
    {
     "data": {
      "text/plain": [
       "<sklearn.metrics._plot.confusion_matrix.ConfusionMatrixDisplay at 0x7fe5a3218970>"
      ]
     },
     "execution_count": 23,
     "metadata": {},
     "output_type": "execute_result"
    },
    {
     "data": {
      "image/png": "[encoded data removed]",
      "text/plain": [
       "<Figure size 432x288 with 2 Axes>"
      ]
     },
     "metadata": {
      "needs_background": "light"
     },
     "output_type": "display_data"
    }
   ],
   "source": [
    "#print accuracy score for train and test set\n",
    "#0 = r/phone, 1 = r/GooglePixel\n",
    "get_metrics('Multinomial Naive Bayes Model with Count Vectorizer', grid_nb_cvec, X_train, X_test)"
   ]
  },
  {
   "cell_type": "code",
   "execution_count": 24,
   "id": "7872b6d2",
   "metadata": {
    "ExecuteTime": {
     "end_time": "2022-08-13T00:06:11.236708Z",
     "start_time": "2022-08-13T00:06:11.028341Z"
    },
    "scrolled": true
   },
   "outputs": [
    {
     "name": "stdout",
     "output_type": "stream",
     "text": [
      "Accuracy: 0.9270139309509389\n",
      "Misclassification: 0.07298606904906113\n",
      "Sensitivity: 0.9391518131530424\n",
      "Specificity: 0.9152238805970149\n",
      "Precision: 0.9149700598802395\n",
      "\n",
      "True Negatives: 1533\n",
      "False Positives: 142\n",
      "False Negatives: 99\n",
      "True Positives: 1528\n"
     ]
    }
   ],
   "source": [
    "#get predictions\n",
    "preds = grid_nb_cvec.predict(X_test)\n",
    "\n",
    "# Save confusion matrix values\n",
    "tn, fp, fn, tp = confusion_matrix(y_test, preds).ravel()\n",
    "\n",
    "# Calculate accuracy, misclassification, specificity, sensitivity and precision\n",
    "accuracy = (tp + tn) / (tp + tn + fp + fn)\n",
    "misclassification = 1 - accuracy\n",
    "spec = tn / (tn + fp)\n",
    "sen = tp/(tp+fn)\n",
    "precision = tp / (tp + fp)\n",
    "\n",
    "print('Accuracy:', accuracy)\n",
    "print('Misclassification:', misclassification)\n",
    "print('Sensitivity:', sen)\n",
    "print('Specificity:', spec)\n",
    "print('Precision:', precision)\n",
    "print('')\n",
    "print(\"True Negatives:\", tn)\n",
    "print(\"False Positives:\", fp)\n",
    "print(\"False Negatives:\", fn)\n",
    "print(\"True Positives:\", tp)"
   ]
  },
  {
   "cell_type": "code",
   "execution_count": 25,
   "id": "c9e3b07b",
   "metadata": {
    "ExecuteTime": {
     "end_time": "2022-08-13T00:06:11.575170Z",
     "start_time": "2022-08-13T00:06:11.566599Z"
    }
   },
   "outputs": [
    {
     "data": {
      "text/plain": [
       "{'cvec__max_df': 0.9,\n",
       " 'cvec__max_features': 5000,\n",
       " 'cvec__min_df': 8,\n",
       " 'cvec__ngram_range': (1, 2)}"
      ]
     },
     "execution_count": 25,
     "metadata": {},
     "output_type": "execute_result"
    }
   ],
   "source": [
    "#print out best hyperparameters\n",
    "grid_nb_cvec.best_params_"
   ]
  },
  {
   "cell_type": "code",
   "execution_count": 26,
   "id": "48446fc0",
   "metadata": {
    "ExecuteTime": {
     "end_time": "2022-08-13T00:06:13.304686Z",
     "start_time": "2022-08-13T00:06:12.340575Z"
    }
   },
   "outputs": [],
   "source": [
    "#transform X_train and X_test set for CountVectorizer with optimized hyperparameters\n",
    "cvec = CountVectorizer(stop_words= stop_words,\n",
    "                       max_features=5000,\n",
    "                       max_df=0.9,\n",
    "                       min_df=8,\n",
    "                       ngram_range=(1,2))\n",
    "\n",
    "X_train_cvec = cvec.fit_transform(X_train)\n",
    "X_test_cvec = cvec.transform(X_test)"
   ]
  },
  {
   "cell_type": "markdown",
   "id": "5a0023c9",
   "metadata": {},
   "source": [
    "#### Multinomial Naive Bayes and TF-IDF Vectorizer"
   ]
  },
  {
   "cell_type": "code",
   "execution_count": 27,
   "id": "669543d5",
   "metadata": {
    "ExecuteTime": {
     "end_time": "2022-08-13T00:06:16.792462Z",
     "start_time": "2022-08-13T00:06:16.778820Z"
    }
   },
   "outputs": [],
   "source": [
    "#instantiate TfidfVectorizer + MultinomialNB pipeline\n",
    "pipe_nb_tvec = Pipeline([\n",
    "    ('tvec', TfidfVectorizer(stop_words = stop_words)),\n",
    "    ('nb', MultinomialNB())\n",
    "])\n",
    "\n",
    "# define pipeline parameters\n",
    "pipe_nb_tvec_params = {\n",
    "    'tvec__max_features': [2_000, 5_000, 10_000],\n",
    "    'tvec__min_df': [2, 5, 8],\n",
    "    'tvec__max_df': [0.9, 0.95],\n",
    "    'tvec__ngram_range': [(1,1), (1,2)]\n",
    "}\n",
    "\n",
    "# instantiate GridSearchCV\n",
    "grid_nb_tvec = GridSearchCV(estimator=pipe_nb_tvec,\n",
    "                      param_grid=pipe_nb_tvec_params,\n",
    "                      cv=5, n_jobs=-1)"
   ]
  },
  {
   "cell_type": "code",
   "execution_count": 28,
   "id": "899cbdf8",
   "metadata": {
    "ExecuteTime": {
     "end_time": "2022-08-13T00:06:30.958051Z",
     "start_time": "2022-08-13T00:06:17.504179Z"
    }
   },
   "outputs": [
    {
     "data": {
      "text/plain": [
       "GridSearchCV(cv=5,\n",
       "             estimator=Pipeline(steps=[('tvec',\n",
       "                                        TfidfVectorizer(stop_words=['i', 'me',\n",
       "                                                                    'my',\n",
       "                                                                    'myself',\n",
       "                                                                    'we', 'our',\n",
       "                                                                    'ours',\n",
       "                                                                    'ourselves',\n",
       "                                                                    'you',\n",
       "                                                                    \"you're\",\n",
       "                                                                    \"you've\",\n",
       "                                                                    \"you'll\",\n",
       "                                                                    \"you'd\",\n",
       "                                                                    'your',\n",
       "                                                                    'yours',\n",
       "                                                                    'yourself',\n",
       "                                                                    'yourselves',\n",
       "                                                                    'he', 'him',\n",
       "                                                                    'his',\n",
       "                                                                    'himself',\n",
       "                                                                    'she',\n",
       "                                                                    \"she's\",\n",
       "                                                                    'her',\n",
       "                                                                    'hers',\n",
       "                                                                    'herself',\n",
       "                                                                    'it',\n",
       "                                                                    \"it's\",\n",
       "                                                                    'its',\n",
       "                                                                    'itself', ...])),\n",
       "                                       ('nb', MultinomialNB())]),\n",
       "             n_jobs=-1,\n",
       "             param_grid={'tvec__max_df': [0.9, 0.95],\n",
       "                         'tvec__max_features': [2000, 5000, 10000],\n",
       "                         'tvec__min_df': [2, 5, 8],\n",
       "                         'tvec__ngram_range': [(1, 1), (1, 2)]})"
      ]
     },
     "execution_count": 28,
     "metadata": {},
     "output_type": "execute_result"
    }
   ],
   "source": [
    "#fit GridSearchCV object to data\n",
    "grid_nb_tvec.fit(X_train, y_train)"
   ]
  },
  {
   "cell_type": "code",
   "execution_count": 29,
   "id": "1c8b0f96",
   "metadata": {
    "ExecuteTime": {
     "end_time": "2022-08-13T00:06:31.901092Z",
     "start_time": "2022-08-13T00:06:30.995192Z"
    }
   },
   "outputs": [
    {
     "name": "stdout",
     "output_type": "stream",
     "text": [
      "Multinomial Naive Bayes Model with TF-IDF Vectorizer\n",
      "──────────────────────────────\n",
      "Accuracy score of training set: 95.47%\n",
      "Accuracy score of testing set: 91.1%\n",
      "──────────────────────────────\n"
     ]
    },
    {
     "data": {
      "text/plain": [
       "<sklearn.metrics._plot.confusion_matrix.ConfusionMatrixDisplay at 0x7fe5c172dd60>"
      ]
     },
     "execution_count": 29,
     "metadata": {},
     "output_type": "execute_result"
    },
    {
     "data": {
      "image/png": "[encoded data removed]",
      "text/plain": [
       "<Figure size 432x288 with 2 Axes>"
      ]
     },
     "metadata": {
      "needs_background": "light"
     },
     "output_type": "display_data"
    }
   ],
   "source": [
    "#print accuracy score for train and test set\n",
    "#0 = r/phone, 1 = r/GooglePixel\n",
    "get_metrics('Multinomial Naive Bayes Model with TF-IDF Vectorizer', grid_nb_tvec, X_train, X_test)"
   ]
  },
  {
   "cell_type": "code",
   "execution_count": 30,
   "id": "d0d90eff",
   "metadata": {
    "ExecuteTime": {
     "end_time": "2022-08-13T00:06:32.131224Z",
     "start_time": "2022-08-13T00:06:31.937420Z"
    }
   },
   "outputs": [
    {
     "name": "stdout",
     "output_type": "stream",
     "text": [
      "Accuracy: 0.9109630526953362\n",
      "Misclassification: 0.08903694730466383\n",
      "Sensitivity: 0.9213275968039336\n",
      "Specificity: 0.9008955223880597\n",
      "Precision: 0.9003003003003003\n",
      "\n",
      "True Negatives: 1509\n",
      "False Positives: 166\n",
      "False Negatives: 128\n",
      "True Positives: 1499\n"
     ]
    }
   ],
   "source": [
    "# Get predictions\n",
    "preds_tvec = grid_nb_tvec.predict(X_test)\n",
    "\n",
    "# Save confusion matrix values\n",
    "tn2, fp2, fn2, tp2 = confusion_matrix(y_test, preds_tvec).ravel()\n",
    "\n",
    "# Calculate accuracy, misclassification, specificity, sensitivity and precision\n",
    "accuracy2 = (tp2 + tn2) / (tp2 + tn2 + fp2 + fn2)\n",
    "misclassification2 = 1 - accuracy2\n",
    "spec2 = tn2 / (tn2 + fp2)\n",
    "sen2 = tp2/(tp2+fn2)\n",
    "precision2 = tp2 / (tp2 + fp2)\n",
    "\n",
    "print('Accuracy:', accuracy2)\n",
    "print('Misclassification:', misclassification2)\n",
    "print('Sensitivity:', sen2)\n",
    "print('Specificity:', spec2)\n",
    "print('Precision:', precision2)\n",
    "print('')\n",
    "print(\"True Negatives:\", tn2)\n",
    "print(\"False Positives:\", fp2)\n",
    "print(\"False Negatives:\", fn2)\n",
    "print(\"True Positives:\", tp2)"
   ]
  },
  {
   "cell_type": "code",
   "execution_count": 31,
   "id": "efa7b172",
   "metadata": {
    "ExecuteTime": {
     "end_time": "2022-08-13T00:06:32.171553Z",
     "start_time": "2022-08-13T00:06:32.168836Z"
    }
   },
   "outputs": [
    {
     "data": {
      "text/plain": [
       "{'tvec__max_df': 0.9,\n",
       " 'tvec__max_features': 10000,\n",
       " 'tvec__min_df': 2,\n",
       " 'tvec__ngram_range': (1, 2)}"
      ]
     },
     "execution_count": 31,
     "metadata": {},
     "output_type": "execute_result"
    }
   ],
   "source": [
    "# print out best parameters\n",
    "grid_nb_tvec.best_params_"
   ]
  },
  {
   "cell_type": "code",
   "execution_count": 32,
   "id": "8c164dff",
   "metadata": {
    "ExecuteTime": {
     "end_time": "2022-08-13T00:06:33.189032Z",
     "start_time": "2022-08-13T00:06:32.209797Z"
    }
   },
   "outputs": [],
   "source": [
    "#transform X_train and X_test set with TfidfVectorizer with optimized parameters\n",
    "tvec = TfidfVectorizer(stop_words = stop_words,\n",
    "                       max_features=10000,\n",
    "                       max_df=0.9,\n",
    "                       min_df=2,\n",
    "                       ngram_range=(1,2))\n",
    "\n",
    "X_train_tvec = tvec.fit_transform(X_train)\n",
    "X_test_tvec = tvec.transform(X_test)"
   ]
  },
  {
   "cell_type": "markdown",
   "id": "75be5c40",
   "metadata": {},
   "source": [
    "### Support Vector Machine"
   ]
  },
  {
   "cell_type": "markdown",
   "id": "310951a0",
   "metadata": {},
   "source": [
    "#### Support Vector Machines and CountVectorizer"
   ]
  },
  {
   "cell_type": "code",
   "execution_count": 33,
   "id": "a3f78d3b",
   "metadata": {
    "ExecuteTime": {
     "end_time": "2022-08-13T00:06:33.228622Z",
     "start_time": "2022-08-13T00:06:33.226008Z"
    }
   },
   "outputs": [],
   "source": [
    "# define GridSearchCV parameters\n",
    "svc_params = {'C': [0.05, 0.1, 1, 10],\n",
    "              'kernel': ['linear','poly','rbf'],\n",
    "              'degree': [2,3]\n",
    "}\n",
    "\n",
    "# instantiate GridSearchCV\n",
    "grid_svc_cvec = GridSearchCV(estimator=SVC(random_state=42, probability = True),\n",
    "                             param_grid=svc_params,\n",
    "                             cv=5, n_jobs=-1)"
   ]
  },
  {
   "cell_type": "code",
   "execution_count": 34,
   "id": "0404ff89",
   "metadata": {
    "ExecuteTime": {
     "end_time": "2022-08-13T00:12:27.412221Z",
     "start_time": "2022-08-13T00:06:33.267694Z"
    }
   },
   "outputs": [
    {
     "name": "stderr",
     "output_type": "stream",
     "text": [
      "/Users/cherylleong/opt/anaconda3/lib/python3.8/site-packages/joblib/externals/loky/process_executor.py:688: UserWarning: A worker stopped while some jobs were given to the executor. This can be caused by a too short worker timeout or by a memory leak.\n",
      "  warnings.warn(\n"
     ]
    },
    {
     "data": {
      "text/plain": [
       "GridSearchCV(cv=5, estimator=SVC(probability=True, random_state=42), n_jobs=-1,\n",
       "             param_grid={'C': [0.05, 0.1, 1, 10], 'degree': [2, 3],\n",
       "                         'kernel': ['linear', 'poly', 'rbf']})"
      ]
     },
     "execution_count": 34,
     "metadata": {},
     "output_type": "execute_result"
    }
   ],
   "source": [
    "# fit GridSearchCV object to data\n",
    "grid_svc_cvec.fit(X_train_cvec, y_train)"
   ]
  },
  {
   "cell_type": "code",
   "execution_count": 35,
   "id": "c3db5e62",
   "metadata": {
    "ExecuteTime": {
     "end_time": "2022-08-13T00:12:32.274467Z",
     "start_time": "2022-08-13T00:12:27.454653Z"
    }
   },
   "outputs": [
    {
     "name": "stdout",
     "output_type": "stream",
     "text": [
      "Support Vector Machine Model with CountVectorizer\n",
      "──────────────────────────────\n",
      "Accuracy score of training set: 98.36%\n",
      "Accuracy score of testing set: 93.52%\n",
      "──────────────────────────────\n"
     ]
    },
    {
     "data": {
      "text/plain": [
       "<sklearn.metrics._plot.confusion_matrix.ConfusionMatrixDisplay at 0x7fe5a3a1f880>"
      ]
     },
     "execution_count": 35,
     "metadata": {},
     "output_type": "execute_result"
    },
    {
     "data": {
      "image/png": "[encoded data removed]",
      "text/plain": [
       "<Figure size 432x288 with 2 Axes>"
      ]
     },
     "metadata": {
      "needs_background": "light"
     },
     "output_type": "display_data"
    }
   ],
   "source": [
    "#print accuracy score for train and test set\n",
    "#0 = r/phone, 1 = r/GooglePixel\n",
    "get_metrics('Support Vector Machine Model with CountVectorizer', grid_svc_cvec, X_train_cvec, X_test_cvec)"
   ]
  },
  {
   "cell_type": "code",
   "execution_count": 36,
   "id": "8f02b78d",
   "metadata": {
    "ExecuteTime": {
     "end_time": "2022-08-13T00:12:33.403506Z",
     "start_time": "2022-08-13T00:12:32.313009Z"
    }
   },
   "outputs": [
    {
     "name": "stdout",
     "output_type": "stream",
     "text": [
      "Accuracy: 0.93519079345851\n",
      "Misclassification: 0.06480920654149003\n",
      "Sensitivity: 0.9262446220036877\n",
      "Specificity: 0.9438805970149253\n",
      "Precision: 0.9412866958151156\n",
      "\n",
      "True Negatives: 1581\n",
      "False Positives: 94\n",
      "False Negatives: 120\n",
      "True Positives: 1507\n"
     ]
    }
   ],
   "source": [
    "# Get predictions\n",
    "preds_svc_cvec = grid_svc_cvec.predict(X_test_cvec)\n",
    "\n",
    "# Save confusion matrix values\n",
    "tn3, fp3, fn3, tp3 = confusion_matrix(y_test, preds_svc_cvec).ravel()\n",
    "\n",
    "# Calculate accuracy, misclassification, specificity, sensitivity and precision\n",
    "accuracy3 = (tp3 + tn3) / (tp3 + tn3 + fp3 + fn3)\n",
    "misclassification3 = 1 - accuracy3\n",
    "spec3 = tn3 / (tn3 + fp3)\n",
    "sen3 = tp3/(tp3+fn3)\n",
    "precision3 = tp3 / (tp3 + fp3)\n",
    "\n",
    "print('Accuracy:', accuracy3)\n",
    "print('Misclassification:', misclassification3)\n",
    "print('Sensitivity:', sen3)\n",
    "print('Specificity:', spec3)\n",
    "print('Precision:', precision3)\n",
    "print('')\n",
    "print(\"True Negatives:\", tn3)\n",
    "print(\"False Positives:\", fp3)\n",
    "print(\"False Negatives:\", fn3)\n",
    "print(\"True Positives:\", tp3)"
   ]
  },
  {
   "cell_type": "code",
   "execution_count": 37,
   "id": "1904558e",
   "metadata": {
    "ExecuteTime": {
     "end_time": "2022-08-13T00:12:33.443751Z",
     "start_time": "2022-08-13T00:12:33.441088Z"
    }
   },
   "outputs": [
    {
     "data": {
      "text/plain": [
       "{'C': 0.05, 'degree': 2, 'kernel': 'linear'}"
      ]
     },
     "execution_count": 37,
     "metadata": {},
     "output_type": "execute_result"
    }
   ],
   "source": [
    "# print out best parameters\n",
    "grid_svc_cvec.best_params_"
   ]
  },
  {
   "cell_type": "markdown",
   "id": "e5129693",
   "metadata": {},
   "source": [
    "#### Support Vector Machines with TF-IDF Vectorizer"
   ]
  },
  {
   "cell_type": "code",
   "execution_count": 38,
   "id": "c68ec2d2",
   "metadata": {
    "ExecuteTime": {
     "end_time": "2022-08-13T00:12:33.486896Z",
     "start_time": "2022-08-13T00:12:33.484856Z"
    }
   },
   "outputs": [],
   "source": [
    "# instantiate GridSearchCV\n",
    "grid_svc_tvec = GridSearchCV(estimator=SVC(random_state=42, probability = True),\n",
    "                      param_grid=svc_params,\n",
    "                      cv=5, n_jobs=-1)"
   ]
  },
  {
   "cell_type": "code",
   "execution_count": 39,
   "id": "49b4ddbc",
   "metadata": {
    "ExecuteTime": {
     "end_time": "2022-08-13T00:23:04.473360Z",
     "start_time": "2022-08-13T00:12:33.531168Z"
    }
   },
   "outputs": [
    {
     "data": {
      "text/plain": [
       "GridSearchCV(cv=5, estimator=SVC(probability=True, random_state=42), n_jobs=-1,\n",
       "             param_grid={'C': [0.05, 0.1, 1, 10], 'degree': [2, 3],\n",
       "                         'kernel': ['linear', 'poly', 'rbf']})"
      ]
     },
     "execution_count": 39,
     "metadata": {},
     "output_type": "execute_result"
    }
   ],
   "source": [
    "# fit GridSearchCV object to data\n",
    "grid_svc_tvec.fit(X_train_tvec, y_train)"
   ]
  },
  {
   "cell_type": "code",
   "execution_count": 40,
   "id": "fc119971",
   "metadata": {
    "ExecuteTime": {
     "end_time": "2022-08-13T00:23:19.605091Z",
     "start_time": "2022-08-13T00:23:04.516196Z"
    }
   },
   "outputs": [
    {
     "name": "stdout",
     "output_type": "stream",
     "text": [
      "Support Vector Machine Model with TF-IDF Vectorizer\n",
      "──────────────────────────────\n",
      "Accuracy score of training set: 100.0%\n",
      "Accuracy score of testing set: 94.37%\n",
      "──────────────────────────────\n"
     ]
    },
    {
     "data": {
      "text/plain": [
       "<sklearn.metrics._plot.confusion_matrix.ConfusionMatrixDisplay at 0x7fe5a369c8b0>"
      ]
     },
     "execution_count": 40,
     "metadata": {},
     "output_type": "execute_result"
    },
    {
     "data": {
      "image/png": "[encoded data removed]",
      "text/plain": [
       "<Figure size 432x288 with 2 Axes>"
      ]
     },
     "metadata": {
      "needs_background": "light"
     },
     "output_type": "display_data"
    }
   ],
   "source": [
    "# print accuracy score for train and test set\n",
    "#0 = r/phone, 1 = r/GooglePixel\n",
    "get_metrics('Support Vector Machine Model with TF-IDF Vectorizer', grid_svc_tvec, X_train_tvec, X_test_tvec)"
   ]
  },
  {
   "cell_type": "code",
   "execution_count": 41,
   "id": "50e36baf",
   "metadata": {
    "ExecuteTime": {
     "end_time": "2022-08-13T00:23:23.132889Z",
     "start_time": "2022-08-13T00:23:19.645998Z"
    }
   },
   "outputs": [
    {
     "name": "stdout",
     "output_type": "stream",
     "text": [
      "Accuracy: 0.9436705027256208\n",
      "Misclassification: 0.05632949727437919\n",
      "Sensitivity: 0.9397664413030117\n",
      "Specificity: 0.9474626865671641\n",
      "Precision: 0.9455782312925171\n",
      "\n",
      "True Negatives: 1587\n",
      "False Positives: 88\n",
      "False Negatives: 98\n",
      "True Positives: 1529\n"
     ]
    }
   ],
   "source": [
    "# Get predictions\n",
    "preds_svc_tvec = grid_svc_tvec.predict(X_test_tvec)\n",
    "\n",
    "# Save confusion matrix values\n",
    "tn4, fp4, fn4, tp4 = confusion_matrix(y_test, preds_svc_tvec).ravel()\n",
    "\n",
    "# Calculate accuracy, misclassification, specificity, sensitivity and precision\n",
    "accuracy4 = (tp4 + tn4) / (tp4 + tn4 + fp4 + fn4)\n",
    "misclassification4 = 1 - accuracy4\n",
    "spec4 = tn4 / (tn4 + fp4)\n",
    "sen4 = tp4/(tp4+fn4)\n",
    "precision4 = tp4 / (tp4 + fp4)\n",
    "\n",
    "print('Accuracy:', accuracy4)\n",
    "print('Misclassification:', misclassification4)\n",
    "print('Sensitivity:', sen4)\n",
    "print('Specificity:', spec4)\n",
    "print('Precision:', precision4)\n",
    "print('')\n",
    "print(\"True Negatives:\", tn4)\n",
    "print(\"False Positives:\", fp4)\n",
    "print(\"False Negatives:\", fn4)\n",
    "print(\"True Positives:\", tp4)"
   ]
  },
  {
   "cell_type": "code",
   "execution_count": 42,
   "id": "7ebeb5b8",
   "metadata": {
    "ExecuteTime": {
     "end_time": "2022-08-13T00:23:23.175848Z",
     "start_time": "2022-08-13T00:23:23.173092Z"
    }
   },
   "outputs": [
    {
     "data": {
      "text/plain": [
       "{'C': 10, 'degree': 2, 'kernel': 'rbf'}"
      ]
     },
     "execution_count": 42,
     "metadata": {},
     "output_type": "execute_result"
    }
   ],
   "source": [
    "# print out best parameters\n",
    "grid_svc_tvec.best_params_"
   ]
  },
  {
   "cell_type": "markdown",
   "id": "3bd79473",
   "metadata": {},
   "source": [
    "### Random Forest Classifier"
   ]
  },
  {
   "cell_type": "markdown",
   "id": "a01a24db",
   "metadata": {},
   "source": [
    "#### Random Forest and Count Vectorizer"
   ]
  },
  {
   "cell_type": "code",
   "execution_count": 43,
   "id": "82bab897",
   "metadata": {
    "ExecuteTime": {
     "end_time": "2022-08-13T00:23:23.219921Z",
     "start_time": "2022-08-13T00:23:23.216853Z"
    }
   },
   "outputs": [],
   "source": [
    "# define GridSearchCV parameters\n",
    "rf_params = {'n_estimators': [50, 100, 200, 400, 800, 1600],\n",
    "             'max_depth': [None, 1, 2, 5, 10],\n",
    "             'min_samples_split': [10, 20, 30],\n",
    "             'min_samples_leaf':[5, 10, 15]\n",
    "}\n",
    "\n",
    "# instantiate GridSearchCV\n",
    "grid_rf_cvec = GridSearchCV(estimator=RandomForestClassifier(random_state=42),\n",
    "                      param_grid=rf_params,\n",
    "                      cv=5, n_jobs=-1)"
   ]
  },
  {
   "cell_type": "code",
   "execution_count": 44,
   "id": "add34d58",
   "metadata": {
    "ExecuteTime": {
     "end_time": "2022-08-13T00:26:59.323363Z",
     "start_time": "2022-08-13T00:23:23.260716Z"
    }
   },
   "outputs": [
    {
     "data": {
      "text/plain": [
       "GridSearchCV(cv=5, estimator=RandomForestClassifier(random_state=42), n_jobs=-1,\n",
       "             param_grid={'max_depth': [None, 1, 2, 5, 10],\n",
       "                         'min_samples_leaf': [5, 10, 15],\n",
       "                         'min_samples_split': [10, 20, 30],\n",
       "                         'n_estimators': [50, 100, 200, 400, 800, 1600]})"
      ]
     },
     "execution_count": 44,
     "metadata": {},
     "output_type": "execute_result"
    }
   ],
   "source": [
    "# fit GridSearchCV object to data\n",
    "grid_rf_cvec.fit(X_train_cvec, y_train)"
   ]
  },
  {
   "cell_type": "code",
   "execution_count": 45,
   "id": "e55a5983",
   "metadata": {
    "ExecuteTime": {
     "end_time": "2022-08-13T00:26:59.368702Z",
     "start_time": "2022-08-13T00:26:59.365744Z"
    },
    "scrolled": true
   },
   "outputs": [
    {
     "data": {
      "text/plain": [
       "{'max_depth': None,\n",
       " 'min_samples_leaf': 5,\n",
       " 'min_samples_split': 20,\n",
       " 'n_estimators': 800}"
      ]
     },
     "execution_count": 45,
     "metadata": {},
     "output_type": "execute_result"
    }
   ],
   "source": [
    "# print out best parameters\n",
    "grid_rf_cvec.best_params_"
   ]
  },
  {
   "cell_type": "code",
   "execution_count": 46,
   "id": "18ac4a22",
   "metadata": {
    "ExecuteTime": {
     "end_time": "2022-08-13T00:27:01.943472Z",
     "start_time": "2022-08-13T00:26:59.410564Z"
    }
   },
   "outputs": [
    {
     "name": "stdout",
     "output_type": "stream",
     "text": [
      "Random Forest Model with Count Vectorizer\n",
      "──────────────────────────────\n",
      "Accuracy score of training set: 96.18%\n",
      "Accuracy score of testing set: 94.31%\n",
      "──────────────────────────────\n"
     ]
    },
    {
     "data": {
      "text/plain": [
       "<sklearn.metrics._plot.confusion_matrix.ConfusionMatrixDisplay at 0x7fe5c219c1c0>"
      ]
     },
     "execution_count": 46,
     "metadata": {},
     "output_type": "execute_result"
    },
    {
     "data": {
      "image/png": "[encoded data removed]",
      "text/plain": [
       "<Figure size 432x288 with 2 Axes>"
      ]
     },
     "metadata": {
      "needs_background": "light"
     },
     "output_type": "display_data"
    }
   ],
   "source": [
    "# print accuracy score for train and test set\n",
    "#0 = r/phone, 1 = r/GooglePixel\n",
    "get_metrics('Random Forest Model with Count Vectorizer', grid_rf_cvec, X_train_cvec, X_test_cvec)"
   ]
  },
  {
   "cell_type": "code",
   "execution_count": 47,
   "id": "1df56d7f",
   "metadata": {
    "ExecuteTime": {
     "end_time": "2022-08-13T00:27:02.686965Z",
     "start_time": "2022-08-13T00:27:01.984218Z"
    }
   },
   "outputs": [
    {
     "name": "stdout",
     "output_type": "stream",
     "text": [
      "Accuracy: 0.9430648092065415\n",
      "Misclassification: 0.056935190793458545\n",
      "Sensitivity: 0.9305470190534727\n",
      "Specificity: 0.9552238805970149\n",
      "Precision: 0.9528005034612964\n",
      "\n",
      "True Negatives: 1600\n",
      "False Positives: 75\n",
      "False Negatives: 113\n",
      "True Positives: 1514\n"
     ]
    }
   ],
   "source": [
    "preds_rf_cvec = grid_rf_cvec.predict(X_test_cvec)\n",
    "\n",
    "# Save confusion matrix values\n",
    "tn5, fp5, fn5, tp5 = confusion_matrix(y_test, preds_rf_cvec).ravel()\n",
    "\n",
    "# Calculate accuracy, misclassification, specificity, sensitivity and precision\n",
    "accuracy5 = (tp5 + tn5) / (tp5 + tn5 + fp5 + fn5)\n",
    "misclassification5 = 1 - accuracy5\n",
    "spec5 = tn5 / (tn5 + fp5)\n",
    "sen5 = tp5/(tp5+fn5)\n",
    "precision5 = tp5 / (tp5 + fp5)\n",
    "\n",
    "print('Accuracy:', accuracy5)\n",
    "print('Misclassification:', misclassification5)\n",
    "print('Sensitivity:', sen5)\n",
    "print('Specificity:', spec5)\n",
    "print('Precision:', precision5)\n",
    "print('')\n",
    "print(\"True Negatives:\", tn5)\n",
    "print(\"False Positives:\", fp5)\n",
    "print(\"False Negatives:\", fn5)\n",
    "print(\"True Positives:\", tp5)"
   ]
  },
  {
   "cell_type": "markdown",
   "id": "1b609a32",
   "metadata": {},
   "source": [
    "#### Random Forest and TF-IDF Vectorizer"
   ]
  },
  {
   "cell_type": "code",
   "execution_count": 48,
   "id": "b15f95ad",
   "metadata": {
    "ExecuteTime": {
     "end_time": "2022-08-13T00:27:02.729829Z",
     "start_time": "2022-08-13T00:27:02.727798Z"
    }
   },
   "outputs": [],
   "source": [
    "# instantiate GridSearchCV\n",
    "grid_rf_tvec = GridSearchCV(estimator=RandomForestClassifier(random_state=42),\n",
    "                      param_grid=rf_params,\n",
    "                      cv=5, n_jobs=-1)"
   ]
  },
  {
   "cell_type": "code",
   "execution_count": 49,
   "id": "18cdf539",
   "metadata": {
    "ExecuteTime": {
     "end_time": "2022-08-13T00:31:36.081258Z",
     "start_time": "2022-08-13T00:27:02.771031Z"
    }
   },
   "outputs": [
    {
     "data": {
      "text/plain": [
       "GridSearchCV(cv=5, estimator=RandomForestClassifier(random_state=42), n_jobs=-1,\n",
       "             param_grid={'max_depth': [None, 1, 2, 5, 10],\n",
       "                         'min_samples_leaf': [5, 10, 15],\n",
       "                         'min_samples_split': [10, 20, 30],\n",
       "                         'n_estimators': [50, 100, 200, 400, 800, 1600]})"
      ]
     },
     "execution_count": 49,
     "metadata": {},
     "output_type": "execute_result"
    }
   ],
   "source": [
    "# fit GridSearchCV object to data\n",
    "grid_rf_tvec.fit(X_train_tvec, y_train)"
   ]
  },
  {
   "cell_type": "code",
   "execution_count": 50,
   "id": "6fe10c36",
   "metadata": {
    "ExecuteTime": {
     "end_time": "2022-08-13T00:31:36.125300Z",
     "start_time": "2022-08-13T00:31:36.122563Z"
    }
   },
   "outputs": [
    {
     "data": {
      "text/plain": [
       "{'max_depth': None,\n",
       " 'min_samples_leaf': 5,\n",
       " 'min_samples_split': 30,\n",
       " 'n_estimators': 800}"
      ]
     },
     "execution_count": 50,
     "metadata": {},
     "output_type": "execute_result"
    }
   ],
   "source": [
    "# print out best parameters\n",
    "grid_rf_tvec.best_params_"
   ]
  },
  {
   "cell_type": "code",
   "execution_count": 51,
   "id": "83d80b1a",
   "metadata": {
    "ExecuteTime": {
     "end_time": "2022-08-13T00:31:39.074213Z",
     "start_time": "2022-08-13T00:31:36.167776Z"
    }
   },
   "outputs": [
    {
     "name": "stdout",
     "output_type": "stream",
     "text": [
      "Random Forest Model with TF-IDF Vectorizer\n",
      "──────────────────────────────\n",
      "Accuracy score of training set: 97.07%\n",
      "Accuracy score of testing set: 94.06%\n",
      "──────────────────────────────\n"
     ]
    },
    {
     "data": {
      "text/plain": [
       "<sklearn.metrics._plot.confusion_matrix.ConfusionMatrixDisplay at 0x7fe5c225d520>"
      ]
     },
     "execution_count": 51,
     "metadata": {},
     "output_type": "execute_result"
    },
    {
     "data": {
      "image/png": "[encoded data removed]",
      "text/plain": [
       "<Figure size 432x288 with 2 Axes>"
      ]
     },
     "metadata": {
      "needs_background": "light"
     },
     "output_type": "display_data"
    }
   ],
   "source": [
    "# print accuracy score for train and test set\n",
    "#0 = r/phone, 1 = r/GooglePixel\n",
    "get_metrics('Random Forest Model with TF-IDF Vectorizer', grid_rf_tvec, X_train_tvec, X_test_tvec)"
   ]
  },
  {
   "cell_type": "code",
   "execution_count": 52,
   "id": "5949c9f0",
   "metadata": {
    "ExecuteTime": {
     "end_time": "2022-08-13T00:31:39.786544Z",
     "start_time": "2022-08-13T00:31:39.116142Z"
    },
    "scrolled": true
   },
   "outputs": [
    {
     "name": "stdout",
     "output_type": "stream",
     "text": [
      "Accuracy: 0.9406420351302242\n",
      "Misclassification: 0.05935796486977585\n",
      "Sensitivity: 0.9299323909035033\n",
      "Specificity: 0.951044776119403\n",
      "Precision: 0.94858934169279\n",
      "\n",
      "True Negatives: 1593\n",
      "False Positives: 82\n",
      "False Negatives: 114\n",
      "True Positives: 1513\n"
     ]
    }
   ],
   "source": [
    "preds_rf_tvec = grid_rf_tvec.predict(X_test_tvec)\n",
    "\n",
    "# Save confusion matrix values\n",
    "tn6, fp6, fn6, tp6 = confusion_matrix(y_test, preds_rf_tvec).ravel()\n",
    "\n",
    "# Calculate accuracy, misclassification, specificity, sensitivity and precision\n",
    "accuracy6 = (tp6 + tn6) / (tp6 + tn6 + fp6 + fn6)\n",
    "misclassification6 = 1 - accuracy6\n",
    "spec6 = tn6 / (tn6 + fp6)\n",
    "sen6 = tp6/(tp6+fn6)\n",
    "precision6 = tp6 / (tp6 + fp6)\n",
    "\n",
    "print('Accuracy:', accuracy6)\n",
    "print('Misclassification:', misclassification6)\n",
    "print('Sensitivity:', sen6)\n",
    "print('Specificity:', spec6)\n",
    "print('Precision:', precision6)\n",
    "print('')\n",
    "print(\"True Negatives:\", tn6)\n",
    "print(\"False Positives:\", fp6)\n",
    "print(\"False Negatives:\", fn6)\n",
    "print(\"True Positives:\", tp6)"
   ]
  },
  {
   "cell_type": "markdown",
   "id": "27bb2e32",
   "metadata": {},
   "source": [
    "### AUC/ROC"
   ]
  },
  {
   "cell_type": "code",
   "execution_count": 53,
   "id": "0f4a8316",
   "metadata": {
    "ExecuteTime": {
     "end_time": "2022-08-13T00:31:46.042664Z",
     "start_time": "2022-08-13T00:31:39.830160Z"
    }
   },
   "outputs": [
    {
     "name": "stdout",
     "output_type": "stream",
     "text": [
      "Random Forest / tvec: 0.99\n",
      "Random Forest / cvec: 0.99\n",
      "SVM / tvec: 0.99\n",
      "SVM / cvec: 0.98\n",
      "MNB / tvec: 0.97\n",
      "MNB / cvec: 0.98\n"
     ]
    }
   ],
   "source": [
    "#print AUC Socre\n",
    "p = grid_rf_tvec.predict_proba(X_test_tvec)\n",
    "p2 = grid_rf_cvec.predict_proba(X_test_cvec)\n",
    "p3 = grid_svc_tvec.predict_proba(X_test_tvec)\n",
    "p4 = grid_svc_cvec.predict_proba(X_test_cvec)\n",
    "p5 = grid_nb_tvec.predict_proba(X_test)\n",
    "p6 = grid_nb_cvec.predict_proba(X_test)\n",
    "\n",
    "p = p[:, 1]\n",
    "p2 = p2[:, 1]\n",
    "p3 = p3[:, 1]\n",
    "p4 = p4[:, 1]\n",
    "p5 = p5[:, 1]\n",
    "p6 = p6[:, 1]\n",
    "\n",
    "auc = round(roc_auc_score(y_test, p),2)\n",
    "auc2 = round(roc_auc_score(y_test, p2),2)\n",
    "auc3 = round(roc_auc_score(y_test, p3),2)\n",
    "auc4 = round(roc_auc_score(y_test, p4),2)\n",
    "auc5 = round(roc_auc_score(y_test, p5),2)\n",
    "auc6 = round(roc_auc_score(y_test, p6),2)\n",
    "\n",
    "print('Random Forest / tvec:', auc)\n",
    "print('Random Forest / cvec:', auc2)\n",
    "print('SVM / tvec:', auc3)\n",
    "print('SVM / cvec:', auc4)\n",
    "print('MNB / tvec:', auc5)\n",
    "print('MNB / cvec:', auc6)"
   ]
  },
  {
   "cell_type": "code",
   "execution_count": 54,
   "id": "a3da4e13",
   "metadata": {
    "ExecuteTime": {
     "end_time": "2022-08-13T00:31:52.388633Z",
     "start_time": "2022-08-13T00:31:46.086367Z"
    },
    "scrolled": false
   },
   "outputs": [
    {
     "data": {
      "image/png": "[encoded data removed]",
      "text/plain": [
       "<Figure size 1296x720 with 1 Axes>"
      ]
     },
     "metadata": {
      "needs_background": "light"
     },
     "output_type": "display_data"
    }
   ],
   "source": [
    "#print ROC Curve\n",
    "plt.rcParams[\"figure.figsize\"] = (18,10)\n",
    "\n",
    "rf_tvec_roc = plot_roc_curve(grid_rf_tvec, X_test_tvec, y_test, label=f'RF/tvec, {auc}')\n",
    "rf_cvec_roc = plot_roc_curve(grid_rf_cvec, X_test_cvec, y_test, ax = rf_tvec_roc.ax_, label=f'RF/cvec, {auc2}')\n",
    "svc_tvec_roc = plot_roc_curve(grid_svc_tvec, X_test_tvec, y_test, ax = rf_tvec_roc.ax_, label=f'SVM/tvec, {auc3}')\n",
    "svc_cvec_roc = plot_roc_curve(grid_svc_cvec, X_test_cvec, y_test, ax = rf_tvec_roc.ax_, label=f'SVM/cvec, {auc4}')\n",
    "nb_tvec_roc = plot_roc_curve(grid_nb_tvec, X_test, y_test, ax = rf_tvec_roc.ax_, label=f'MNB/tvec, {auc5}')\n",
    "nb_cvec_roc = plot_roc_curve(grid_nb_cvec, X_test, y_test, ax = rf_tvec_roc.ax_, label=f'MNB/cvec, {auc6}')\n",
    "plt.plot([0, 1], [0, 1], label='baseline', linestyle='--') \n",
    "\n",
    "plt.title(\"ROC CURVE\", fontsize = 18)\n",
    "plt.xlabel('False Positive Rate', fontsize=15)\n",
    "plt.ylabel('True Positive Rate', fontsize=15)\n",
    "\n",
    "plt.show();"
   ]
  },
  {
   "cell_type": "markdown",
   "id": "1e30adda",
   "metadata": {},
   "source": [
    "### Findings"
   ]
  },
  {
   "cell_type": "markdown",
   "id": "351e40cf",
   "metadata": {},
   "source": [
    "#### Misclassified Rows"
   ]
  },
  {
   "cell_type": "code",
   "execution_count": 57,
   "id": "92c8c7d3",
   "metadata": {
    "ExecuteTime": {
     "end_time": "2022-08-13T00:36:03.064923Z",
     "start_time": "2022-08-13T00:36:02.476997Z"
    }
   },
   "outputs": [],
   "source": [
    "miss_preds = grid_rf_cvec.predict(X_test_cvec)"
   ]
  },
  {
   "cell_type": "code",
   "execution_count": 58,
   "id": "44bbcbd9",
   "metadata": {
    "ExecuteTime": {
     "end_time": "2022-08-13T00:36:05.942453Z",
     "start_time": "2022-08-13T00:36:05.922841Z"
    }
   },
   "outputs": [],
   "source": [
    "miss_df = pd.DataFrame(data=X_test)\n",
    "miss_df['actual'] = y_test\n",
    "miss_df['predicted'] = miss_preds\n",
    "final_miss_df = miss_df[miss_df['actual'] != miss_df['predicted']]"
   ]
  },
  {
   "cell_type": "code",
   "execution_count": 59,
   "id": "cc475c60",
   "metadata": {
    "ExecuteTime": {
     "end_time": "2022-08-13T00:36:06.798830Z",
     "start_time": "2022-08-13T00:36:06.779360Z"
    },
    "scrolled": false
   },
   "outputs": [
    {
     "data": {
      "text/html": [
       "<div>\n",
       "<style scoped>\n",
       "    .dataframe tbody tr th:only-of-type {\n",
       "        vertical-align: middle;\n",
       "    }\n",
       "\n",
       "    .dataframe tbody tr th {\n",
       "        vertical-align: top;\n",
       "    }\n",
       "\n",
       "    .dataframe thead th {\n",
       "        text-align: right;\n",
       "    }\n",
       "</style>\n",
       "<table border=\"1\" class=\"dataframe\">\n",
       "  <thead>\n",
       "    <tr style=\"text-align: right;\">\n",
       "      <th></th>\n",
       "      <th>lem_tokens</th>\n",
       "      <th>actual</th>\n",
       "      <th>predicted</th>\n",
       "    </tr>\n",
       "  </thead>\n",
       "  <tbody>\n",
       "    <tr>\n",
       "      <th>4929</th>\n",
       "      <td>looking crop device export original quality he...</td>\n",
       "      <td>0</td>\n",
       "      <td>1</td>\n",
       "    </tr>\n",
       "    <tr>\n",
       "      <th>9214</th>\n",
       "      <td>alarm sound changing set alarm detail text set...</td>\n",
       "      <td>1</td>\n",
       "      <td>0</td>\n",
       "    </tr>\n",
       "    <tr>\n",
       "      <th>6878</th>\n",
       "      <td>cracked help g dropped myag yesterday cracked ...</td>\n",
       "      <td>1</td>\n",
       "      <td>0</td>\n",
       "    </tr>\n",
       "    <tr>\n",
       "      <th>6532</th>\n",
       "      <td>love pixel except modem brief history summary ...</td>\n",
       "      <td>1</td>\n",
       "      <td>0</td>\n",
       "    </tr>\n",
       "    <tr>\n",
       "      <th>8704</th>\n",
       "      <td>vibrates new episode start chromecast wife alw...</td>\n",
       "      <td>1</td>\n",
       "      <td>0</td>\n",
       "    </tr>\n",
       "    <tr>\n",
       "      <th>...</th>\n",
       "      <td>...</td>\n",
       "      <td>...</td>\n",
       "      <td>...</td>\n",
       "    </tr>\n",
       "    <tr>\n",
       "      <th>775</th>\n",
       "      <td>disable mirrored mode front facing camera tryi...</td>\n",
       "      <td>0</td>\n",
       "      <td>1</td>\n",
       "    </tr>\n",
       "    <tr>\n",
       "      <th>8741</th>\n",
       "      <td>bihar ssc cgl exam going conducted soon bihar ...</td>\n",
       "      <td>1</td>\n",
       "      <td>0</td>\n",
       "    </tr>\n",
       "    <tr>\n",
       "      <th>9852</th>\n",
       "      <td>thought pixel low light video quality taken mu...</td>\n",
       "      <td>1</td>\n",
       "      <td>0</td>\n",
       "    </tr>\n",
       "    <tr>\n",
       "      <th>8732</th>\n",
       "      <td>chrome managed organization fresh usb install ...</td>\n",
       "      <td>1</td>\n",
       "      <td>0</td>\n",
       "    </tr>\n",
       "    <tr>\n",
       "      <th>10743</th>\n",
       "      <td>wish grid set custom wallpaper super small com...</td>\n",
       "      <td>1</td>\n",
       "      <td>0</td>\n",
       "    </tr>\n",
       "  </tbody>\n",
       "</table>\n",
       "<p>188 rows × 3 columns</p>\n",
       "</div>"
      ],
      "text/plain": [
       "                                              lem_tokens  actual  predicted\n",
       "4929   looking crop device export original quality he...       0          1\n",
       "9214   alarm sound changing set alarm detail text set...       1          0\n",
       "6878   cracked help g dropped myag yesterday cracked ...       1          0\n",
       "6532   love pixel except modem brief history summary ...       1          0\n",
       "8704   vibrates new episode start chromecast wife alw...       1          0\n",
       "...                                                  ...     ...        ...\n",
       "775    disable mirrored mode front facing camera tryi...       0          1\n",
       "8741   bihar ssc cgl exam going conducted soon bihar ...       1          0\n",
       "9852   thought pixel low light video quality taken mu...       1          0\n",
       "8732   chrome managed organization fresh usb install ...       1          0\n",
       "10743  wish grid set custom wallpaper super small com...       1          0\n",
       "\n",
       "[188 rows x 3 columns]"
      ]
     },
     "execution_count": 59,
     "metadata": {},
     "output_type": "execute_result"
    }
   ],
   "source": [
    "final_miss_df"
   ]
  },
  {
   "cell_type": "code",
   "execution_count": 60,
   "id": "c4a4960c",
   "metadata": {
    "ExecuteTime": {
     "end_time": "2022-08-13T00:36:11.923761Z",
     "start_time": "2022-08-13T00:36:11.907851Z"
    }
   },
   "outputs": [
    {
     "data": {
      "text/plain": [
       "1    113\n",
       "0     75\n",
       "Name: actual, dtype: int64"
      ]
     },
     "execution_count": 60,
     "metadata": {},
     "output_type": "execute_result"
    }
   ],
   "source": [
    "final_miss_df['actual'].value_counts()"
   ]
  },
  {
   "cell_type": "markdown",
   "id": "415da37c",
   "metadata": {},
   "source": [
    "Taking a look at the misclassified rows, the findings are as follows:\n",
    "- both iphone/apple and pixel/google in their content\n",
    "- have very little text in their content\n",
    "- have generic text that is applicable to both subreddits"
   ]
  },
  {
   "cell_type": "markdown",
   "id": "d6cf3019",
   "metadata": {},
   "source": [
    "#### Results"
   ]
  },
  {
   "cell_type": "markdown",
   "id": "2ba7bc28",
   "metadata": {},
   "source": [
    "|Estimator|Vectorizer|Train Accuracy|Test Accuracy|Generalization|Sensitivity|Specificity|AUC|\n",
    "|---------|----------|--------------|-------------|--------------|-----------|-----------|---|\n",
    "|Multinomial Naive Bayes|Count|94.53%|92.7%|1.83%|0.94|0.91|0.98|\n",
    "|Multinomial Naive Bayes|Tfidf|95.47%|91.1%|4.37%|0.92|0.9|0.97|\n",
    "|Support Vector Machine|Count|98.36%|93.52%|4.84%|0.93|0.94|0.98|\n",
    "|Support Vector Machine|Tfidf|100%|94.37%|5.63%|0.94|0.95|0.99|\n",
    "|Random Forest|Count|96.18%|94.31%|1.87%|0.93|0.96|0.99|\n",
    "|Random Forest|Tfidf|97.07%|94.06%|3.01%|0.93|0.95|0.99|"
   ]
  },
  {
   "cell_type": "markdown",
   "id": "496a1f60",
   "metadata": {},
   "source": [
    "- All of the models are overfitted\n",
    "- Multinomial Naive Bayes with Count Vectorizer produced the best generalisation score, which is expected as NB model is usually high variance, low bias, and tend not to overfit data\n",
    "- Support Vector Machine with Tfidf Vectorizer produced the highest accuracy but did not perform very well in terms of generalisation. Able to explore GridSearchCV with diffferent C values and probably introduce gamma to manipulate the curve\n",
    "- Even though highest accuracy is the most important metric in this project, Random Forest with Count Vectorizer provides a relatively high accuracy (second) and good generalisation (second)\n",
    "- Hence, I am inclined to choose Random Forest with Count Vectorizer as the preferred model"
   ]
  },
  {
   "cell_type": "markdown",
   "id": "cc5a457e",
   "metadata": {},
   "source": [
    "#### Improvements"
   ]
  },
  {
   "cell_type": "markdown",
   "id": "936272ff",
   "metadata": {},
   "source": [
    "We can try to improve on the overfitting seen in all the models and improve on the generalisation further by: \n",
    "- Increase amount of dataset used\n",
    "- Try using different stop words\n",
    "- Explore using Bagging Classifier\n",
    "- Continue to use Random Forest but explore GridSearchCV more parameters in terms of n_estimator and max depth"
   ]
  },
  {
   "cell_type": "code",
   "execution_count": null,
   "id": "626b6381",
   "metadata": {},
   "outputs": [],
   "source": []
  }
 ],
 "metadata": {
  "kernelspec": {
   "display_name": "Python 3",
   "language": "python",
   "name": "python3"
  },
  "language_info": {
   "codemirror_mode": {
    "name": "ipython",
    "version": 3
   },
   "file_extension": ".py",
   "mimetype": "text/x-python",
   "name": "python",
   "nbconvert_exporter": "python",
   "pygments_lexer": "ipython3",
   "version": "3.8.8"
  },
  "varInspector": {
   "cols": {
    "lenName": 16,
    "lenType": 16,
    "lenVar": 40
   },
   "kernels_config": {
    "python": {
     "delete_cmd_postfix": "",
     "delete_cmd_prefix": "del ",
     "library": "var_list.py",
     "varRefreshCmd": "print(var_dic_list())"
    },
    "r": {
     "delete_cmd_postfix": ") ",
     "delete_cmd_prefix": "rm(",
     "library": "var_list.r",
     "varRefreshCmd": "cat(var_dic_list()) "
    }
   },
   "types_to_exclude": [
    "module",
    "function",
    "builtin_function_or_method",
    "instance",
    "_Feature"
   ],
   "window_display": false
  }
 },
 "nbformat": 4,
 "nbformat_minor": 5
}
